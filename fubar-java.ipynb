{
 "cells": [
  {
   "cell_type": "code",
   "execution_count": null,
   "metadata": {},
   "outputs": [
    {
     "data": {
      "text/html": [
       "<script>Jupyter.notebook.kernel.restart()</script>"
      ]
     },
     "metadata": {},
     "output_type": "display_data"
    }
   ],
   "source": [
    "from IPython.core.display import display_html\n",
    "display_html(\"<script>Jupyter.notebook.kernel.restart()</script>\",raw=True)"
   ]
  },
  {
   "cell_type": "code",
   "execution_count": 1,
   "metadata": {},
   "outputs": [
    {
     "data": {
      "text/html": [
       "<style>.container { width:100% !important; }</style>"
      ],
      "text/plain": [
       "<IPython.core.display.HTML object>"
      ]
     },
     "metadata": {},
     "output_type": "display_data"
    },
    {
     "data": {
      "text/html": [
       "<style>.container { width:100% !important; }</style>"
      ],
      "text/plain": [
       "<IPython.core.display.HTML object>"
      ]
     },
     "metadata": {},
     "output_type": "display_data"
    }
   ],
   "source": [
    "from sys import path; path.insert(1,\"../src\")\n",
    "import fubar; from importlib import reload; reload(fubar);"
   ]
  },
  {
   "cell_type": "markdown",
   "metadata": {},
   "source": [
    "***\n",
    "< [GMIT Software Development](http://web.archive.org/web/20210607085325/https://www.gmit.ie/computer-science-and-applied-physics/higher-diploma-science-computing-software-development-ict) | [Home](https://github.com/SeanOhAileasa) | [README](https://github.com/SeanOhAileasa/fubar-java/blob/main/README.md) >\n",
    "\n",
    "[![GMIT](https://github.com/SeanOhAileasa/SeanOhAileasa/blob/master/rc/gmit.png?raw=true)](https://web.archive.org/web/20201029063153/https://www.gmit.ie/computer-science-and-applied-physics/higher-diploma-science-computing-data-analytics-ict)\n",
    "\n",
    "## GMIT - Supplemental Course Material\n",
    "### Topic: [Java](https://nbviewer.jupyter.org/github/SeanOhAileasa/fubar-java/blob/main/fubar-java.ipynb)\n",
    "***"
   ]
  },
  {
   "cell_type": "markdown",
   "metadata": {},
   "source": [
    "Course material for the ``Object-Oriented Software Development`` module (10 Credits) and ``Advanced Object-Oriented Software Development`` module (10 Credits) of the ``Higher Diploma in Science in Computing (Software Development) (H.Dip)`` programme at **Galway-Mayo Institute of Technology (GMIT)**. This repository is for self-study/preparation for future employment opportunities."
   ]
  },
  {
   "cell_type": "code",
   "execution_count": 2,
   "metadata": {},
   "outputs": [],
   "source": [
    "from sys import path; path.insert(1,\"../src\")\n",
    "from fubar import fFile"
   ]
  },
  {
   "cell_type": "code",
   "execution_count": 3,
   "metadata": {},
   "outputs": [
    {
     "name": "stdout",
     "output_type": "stream",
     "text": [
      "# repository ./SeanOhAileasa\r\n",
      "def fFile(nParPath):\r\n",
      "    \"\"\"Start a file with its associated application.\r\n",
      "\r\n",
      "Input: nParPath\r\n",
      "Process: (os.path.realpath; os.startfile)\r\n",
      "Output: file opened with associated application\r\n",
      "\"\"\"\r\n",
      "    from os import path,startfile\r\n",
      "    return startfile(path.realpath(nParPath))\r\n",
      "# --- END ---\r\n"
     ]
    }
   ],
   "source": [
    "%%script bash\n",
    "grep -1 \"def fFile\" ../src/fubar.py -A 9"
   ]
  },
  {
   "cell_type": "markdown",
   "metadata": {},
   "source": [
    "<a id=\"top\"></a>\n",
    "***\n",
    "# Object Oriented Software Development\n",
    "***\n",
    "\n",
    "## [Module Content](#moduleContent)\n",
    "\n",
    "- &#x1F6A7;\n",
    "\n",
    "## [Introduction](#introduction)\n",
    "\n",
    "- &#x1F6A7;\n",
    "\n",
    "## [Basic Elements of a Program](#basicElementsofaProgram)\n",
    "\n",
    "- &#x1F6A7;\n",
    "\n",
    "## [Data Types and Variables](#dataTypesandVariables)\n",
    "\n",
    "- &#x1F6A7;\n",
    "\n",
    "## [Operators and Expressions](#operatorsandExpressions)\n",
    "\n",
    "- &#x1F6A7;\n",
    "\n",
    "## [Objects & Classes, Visibility Modifiers and Methods](#objectsClassesVisibilityModifiersMethods)\n",
    "\n",
    "- &#x1F6A7;\n",
    "\n",
    "## [Program Control Flow Branching](#programControlFlowBranching)\n",
    "\n",
    "- &#x1F6A7;\n",
    "\n",
    "## [Program Control Flow: Iteration](#programControlFlowIteration)\n",
    "\n",
    "- &#x1F6A7;\n",
    "\n",
    "## [Arrays](#arrays)\n",
    "\n",
    "- &#x1F6A7;\n",
    "\n",
    "## [Creating a Student Manager App](#creatingaStudentManagerApp)\n",
    "\n",
    "- &#x1F6A7;\n",
    "\n",
    "## [Characters and Strings](#charactersandStrings)\n",
    "\n",
    "- &#x1F6A7;\n",
    "\n",
    "## [Multidimensional Arrays](#multidimensionalArrays)\n",
    "\n",
    "- &#x1F6A7;\n",
    "\n",
    "## [Exception Handling](#exceptionHandling)\n",
    "\n",
    "- &#x1F6A7;\n",
    "\n",
    "## [Java I/O](#javaIO)\n",
    "\n",
    "- &#x1F6A7;"
   ]
  },
  {
   "cell_type": "markdown",
   "metadata": {},
   "source": [
    "***\n",
    "# END"
   ]
  },
  {
   "cell_type": "markdown",
   "metadata": {},
   "source": [
    "***\n",
    "# Advanced Object Oriented Software Development\n",
    "***\n",
    "\n",
    "## [Introduction and Module Overview](#introduction-and-module-overview)\n",
    "\n",
    "* [Course Overview](#course-overview)\n",
    "* [Object-Oriented Paradigm](#object-oriented-paradigm)\n",
    "* [Installing the Java 1.8 SDK and Eclipse Oxygen on Windows 7 64 bit](#installling-java-windows)\n",
    "* [Installing the Java 1.8 SDK and Eclipse Oxygen on a Mac / OSX](#installing-java-mac)\n",
    "\n",
    "## [Abstraction](#abstraction)\n",
    "\n",
    "* [Abstraction - Definitions and Key Concepts](#abstraction-definitions-and-key-concepts)\n",
    "* [Abstracting a Shopping Trolley](#abstracting-a-shopping-trolley)\n",
    "* [Abstracting a Tree](#abstracting-a-tree)\n",
    "* [The Java Collections Framework - Key Abstractions](#the-java-collections-framework-key-abstractions)\n",
    "\n",
    "## [Encapsulation and Big-O Notation](#encapsulation-and-big-O-notation)\n",
    "\n",
    "* [Encapsulation - Definitions and Key Concepts](#encapsulation-definitions-and-key-concepts)\n",
    "* [Big-O Notation - Space & Time Complexity](#big-O-notation-space-time-complexity)\n",
    "* [Lists - Creating and Using ArrayList and LinkedList](#lists-creating-and-using-arrayList-and-linkedList)\n",
    "* [Storing Dictionary Words with a List](#storingdictionarywordswithalist) \n",
    "\n",
    "## [Delegation & Composition](#delegation-composition)\n",
    "\n",
    "* [Delegation and Composition](#delegation-and-composition)\n",
    "* [Using Composition to Implement a Shopping Trolley](#using-composition-to-implement-a-shopping-trolley)\n",
    "* [Using Composition to Implement a Tree Structure](#using-CompositiontoImplementaTreeStructure)\n",
    "\n",
    "## [Object Equality and Comparability](#ObjectEqualityandComparability)\n",
    "\n",
    "* [Object Equality and Comparability](#ObjectEqualityandComparability)\n",
    "* [Implementing Equality and Comparability in a Shopping Trolley](#ImplementingEqualityandComparabilityinaShoppingTrolley)\n",
    "* [Implementing Equality in a Tree](#ImplementingEqualityinaTree)\n",
    "\n",
    "## [Revision Week 1](#RevisionWeek1)\n",
    "\n",
    "## [Sets and Maps](#SetsandMaps)\n",
    "\n",
    "* [Sets](#Sets)\n",
    "* [Maps](#Maps)\n",
    "* [Using Sets and Maps in Java](#UsingSetsandMapsinJava)\n",
    "\n",
    "## [Inheritance and Polymorphism](#InheritanceandPolymorphism)\n",
    "\n",
    "* [Specialisation Inheritance](#SpecialisationInheritance)\n",
    "* [Implementing Specialisation Inheritance](#ImplementingSpecialisationInheritance)\n",
    "* [Method Overriding and Abstract Classes](#MethodOverridingandAbstractClasses)\n",
    "* [Specification Inheritance](#SpecificationInheritance)\n",
    "* [Implementing Abstract Classes and Overriding Methods](#ImplementingAbstractClassesandOverridingMethods)\n",
    "* [Implementing Specification Inheritance](#ImplementingSpecificationInheritance)\n",
    "\n",
    "## [Concurrent Programming - Threads](#ConcurrentProgrammingThreads)\n",
    "\n",
    "* [Threads](#Threads)\n",
    "* [Joining Threads - Eclipse Example](#JoiningThreads-EclipseExample)\n",
    "* [Thread Names and Priority - Eclipse Example](#ThreadNamesandPriority-EclipseExample)\n",
    "* [Using the volatile Keyword](#UsingthevolatileKeyword)\n",
    "* [Thread Deadlock with Synchronized Methods](#ThreadDeadlockwithSynchronizedMethods)\n",
    "* [Thread Deadlock with Synchronized Objects](#ThreadDeadlockwithSynchronizedObjects)\n",
    "* [Thread Deadlock with Object Monitors](#ThreadDeadlockwithObjectMonitors)\n",
    "\n",
    "## [JavaDocs](#javaDocs)\n",
    "\n",
    "* [Annotating Code with JavaDoc and Creating a JAR Archive](#AnnotatingCodewithJavaDocandCreatingaJARArchive)\n",
    "\n",
    "## [Revision Week 2](#revisionWeek2)\n",
    "    \n",
    "* [UML Class Diagrams](#UMLClassDiagrams)"
   ]
  },
  {
   "cell_type": "markdown",
   "metadata": {},
   "source": [
    "***\n",
    "# END"
   ]
  },
  {
   "cell_type": "markdown",
   "metadata": {},
   "source": [
    "< [Table of Contents](#top) | [References](#references) >\n",
    "<a id=\"moduleContent\"></a>\n",
    "***\n",
    "## Module Content\n",
    "***"
   ]
  },
  {
   "cell_type": "markdown",
   "metadata": {},
   "source": [
    "- Programming Fundamentals (40%): Software development using types, variables and operators; operator precedence, literals, control structures for decision and iteration, I/O. arrays, Exception handling.\n",
    "\n",
    "- OO Programming (50%): OO programming using objects and classes; methods and parameter passing, pass by value and pass by reference, constructors. JVM structure: heap and stack. \n",
    "\n",
    "- Code Design (10%): Code design, code style and quality, testing and debugging"
   ]
  },
  {
   "cell_type": "markdown",
   "metadata": {},
   "source": [
    "###### Learning Outcomes:\n",
    "***\n",
    "\n",
    "- Demonstrate an understanding of the core concepts of object-oriented programming\n",
    "\n",
    "- Implement a software application using the Java programming language utilising core object-oriented programming concepts, and develop problem solving skills as part of this process\n",
    "\n",
    "- Design an object-oriented software application in Java\n",
    "\n",
    "- Test and debug an object-oriented software application"
   ]
  },
  {
   "cell_type": "markdown",
   "metadata": {},
   "source": [
    "###### Grading of Module\n",
    "***\n",
    "Please note that this is a 10 credit module. Your final grade for this module will be computed from the composite of:\n",
    "\n",
    "- Two on-line assessments worth 25% each. These will consist of a mix of multiple choice questions and Java code snippets. The two assessments will be available during the periods March 1st - 8th and March 29th - Apr 4th respectively. You will be able to take the assessments as a first sitting any time during the week in which they are available.. You can re-sit an assessment as many times as is necessary for you to achieve a pass. However, all re-sits will be capped at 40%.\n",
    "\n",
    "- One programming assignment worth 50% to be submitted on or before Tuesday 31st August 2021. The assignment will be published on Moodle during Mar 15th - 21th 2021."
   ]
  },
  {
   "cell_type": "markdown",
   "metadata": {},
   "source": [
    "###### Online Live Workshops\n",
    "***\n",
    "In addition to the weekly availability of lecture and practical resources, a set of online live workshops will also be provided. Please note that attendance (virtual or otherwise) at workshops is not obligatory, as these are intended to buttress your learning using the resources already available on Moodle. All workshops will be recorded and will be made available on Moodle. The workshops will be run in the evenings, typically 6:30-7:30, using Microsoft Teams, which is built into Office 365. You will be able to access the workshop by clicking on the link “Join Online Meeting” at the bottom of an invitation email that you will receive before each meeting. "
   ]
  },
  {
   "cell_type": "markdown",
   "metadata": {},
   "source": [
    "###### Schedule of Workshops\n",
    "***\n",
    "    Wednesday 10th February from 6:15 - 7:30pm.\n",
    "    Wednesday 17th February from 6:15 - 7:15pm\n",
    "    Wednesday 3rd March from 6:15 - 7:15pm\n",
    "    Wednesday 24th March from 6:15 - 7:15pm\n",
    "    Wednesday 31st March from 6:15 - 7:15pm\n",
    "    Wednesday 28th April from 6:15 - 7:15pm\n",
    "\n",
    "There will also be a workshop specifically relating to the assignment. I will arrange a date and time for this later in the semester."
   ]
  },
  {
   "cell_type": "markdown",
   "metadata": {},
   "source": [
    "< [Table of Contents](#top) | [References](#references) >\n",
    "###### Books and Tutorials\n",
    "***"
   ]
  },
  {
   "cell_type": "markdown",
   "metadata": {},
   "source": [
    "As a Java programmer, your most important learning resource is the Java API Specification. Learning how to read and write API documentation is an important skill for a programmer. The specification is a reference \"gold standard\", describing every class in the Java 8 release and fully documenting the function of each class and all it's constituent attributes and methods. The API specification is formatted using the JavaDoc tool and is the de facto standard and go-to resource for learning any part of the extensive Java API."
   ]
  },
  {
   "cell_type": "markdown",
   "metadata": {},
   "source": [
    "An introduction to computer programming and object-oriented development using the Java programming language."
   ]
  },
  {
   "cell_type": "code",
   "execution_count": null,
   "metadata": {},
   "outputs": [],
   "source": [
    "fFile(nParPath=\"./hide/00-ObjectOrientedSoftwareDevolopment/00-BooksTutorials/thinkapjava.pdf\")"
   ]
  },
  {
   "cell_type": "markdown",
   "metadata": {},
   "source": [
    "An introduction to computer programming and object-oriented development using the Java programming language."
   ]
  },
  {
   "cell_type": "code",
   "execution_count": null,
   "metadata": {},
   "outputs": [],
   "source": [
    "fFile(nParPath=\"./hide/00-ObjectOrientedSoftwareDevolopment/00-BooksTutorials/thinkapjava.epub\")"
   ]
  },
  {
   "cell_type": "markdown",
   "metadata": {},
   "source": [
    "The [Cave of Programming](https://www.caveofprogramming.com/library/index.html#java-video) contains a wealth of articles and videos on Java and related technologies, ranging from beginner to intermediate and advanced Java programming."
   ]
  },
  {
   "cell_type": "code",
   "execution_count": null,
   "metadata": {},
   "outputs": [],
   "source": [
    "fFile(nParPath=\"./hide/00-ObjectOrientedSoftwareDevolopment/00-BooksTutorials/Google Java Style Guide.pdf\")"
   ]
  },
  {
   "cell_type": "markdown",
   "metadata": {},
   "source": [
    "***\n",
    "## END"
   ]
  },
  {
   "cell_type": "markdown",
   "metadata": {},
   "source": [
    "< [Table of Contents](#top) | [References](#references) >\n",
    "<a id=\"introduction\"></a>\n",
    "***\n",
    "## Introduction\n",
    "***"
   ]
  },
  {
   "cell_type": "markdown",
   "metadata": {},
   "source": [
    "###### Topics\n",
    "***\n",
    "\n",
    "- An introduction to computer programming and programming paradigms.\n",
    "\n",
    "- The Java Virtual Machine (JVM), the Eclipse IDE, source code and bytecode, run-time environment.\n",
    "\n",
    "- Installing, configuring, compiling and executing a simple programme using command line and Eclipse Che.\n",
    "\n",
    "- Programme a simple Hello World application and examine its output."
   ]
  },
  {
   "cell_type": "markdown",
   "metadata": {},
   "source": [
    "###### Reading Material\n",
    "***\n",
    "Read Chapter 1 (The way of the program) of Think Java -  How to Think Like a Computer Scientist"
   ]
  },
  {
   "cell_type": "markdown",
   "metadata": {},
   "source": [
    "###### 1.1 Introductory Lecture (16 mins) URL\n",
    "***"
   ]
  },
  {
   "cell_type": "code",
   "execution_count": null,
   "metadata": {},
   "outputs": [],
   "source": [
    "fFile(nParPath=\"./hide/00-ObjectOrientedSoftwareDevolopment/01-Introduction/hdipOOWk1-Introduction-2 - 17-01-2018.mp4\")"
   ]
  },
  {
   "cell_type": "markdown",
   "metadata": {},
   "source": [
    "###### 1.2 Programming Languages and Paradigms (20 mins) URL\n",
    "***"
   ]
  },
  {
   "cell_type": "code",
   "execution_count": null,
   "metadata": {},
   "outputs": [],
   "source": [
    "fFile(nParPath=\"./hide/00-ObjectOrientedSoftwareDevolopment/01-Introduction/hdipOOWk1-OOP - 16-01-2017.mp4\")"
   ]
  },
  {
   "cell_type": "markdown",
   "metadata": {},
   "source": [
    "###### 1.3 Installing the Java 1.8 SDK and Eclipse Oxygen on Windows 7 64 bit (19 mins) URL\n",
    "***"
   ]
  },
  {
   "cell_type": "code",
   "execution_count": null,
   "metadata": {},
   "outputs": [],
   "source": [
    "fFile(nParPath=\"./hide/00-ObjectOrientedSoftwareDevolopment/01-Introduction/hdipADOOWk1-Install-Java-Eclipse - 15-09-2017.mp4\")"
   ]
  },
  {
   "cell_type": "markdown",
   "metadata": {},
   "source": [
    "###### 1.4 Installing the Java 1.8 SDK and Eclipse Oxygen on a Mac / OSX (12 mins) URL\n",
    "***"
   ]
  },
  {
   "cell_type": "code",
   "execution_count": null,
   "metadata": {},
   "outputs": [],
   "source": [
    "fFile(nParPath=\"./hide/00-ObjectOrientedSoftwareDevolopment/01-Introduction/hdipADOOWk1-Install-Java-Eclipse-OSX - 18-09-2017.mp4\")"
   ]
  },
  {
   "cell_type": "markdown",
   "metadata": {},
   "source": [
    "###### 1.5 Writing Your First Programme (6 mins) URL\n",
    "***"
   ]
  },
  {
   "cell_type": "code",
   "execution_count": null,
   "metadata": {},
   "outputs": [],
   "source": [
    "fFile(nParPath=\"./hide/00-ObjectOrientedSoftwareDevolopment/01-Introduction/Writing Your First Programme (6 mins) - 29-01-2020.mp4\")"
   ]
  },
  {
   "cell_type": "markdown",
   "metadata": {},
   "source": [
    "###### 1.6 Introduction (Notes in PDF Format) File\n",
    "***"
   ]
  },
  {
   "cell_type": "code",
   "execution_count": null,
   "metadata": {},
   "outputs": [],
   "source": [
    "fFile(nParPath=\"./hide/00-ObjectOrientedSoftwareDevolopment/01-Introduction/hdipOOWk1-Introduction-2.pdf\")"
   ]
  },
  {
   "cell_type": "markdown",
   "metadata": {},
   "source": [
    "###### 1.7 Introducing OOP (Notes in PDF Format)\n",
    "***"
   ]
  },
  {
   "cell_type": "code",
   "execution_count": null,
   "metadata": {},
   "outputs": [],
   "source": [
    "fFile(nParPath=\"./hide/00-ObjectOrientedSoftwareDevolopment/01-Introduction/hdipOOWk1-OOProgramming.pdf\")"
   ]
  },
  {
   "cell_type": "markdown",
   "metadata": {},
   "source": [
    "***\n",
    "## END"
   ]
  },
  {
   "cell_type": "markdown",
   "metadata": {},
   "source": [
    "< [Table of Contents](#top) | [References](#references) >\n",
    "<a id=\"basicElementsofaProgram\"></a>\n",
    "***\n",
    "## Basic Elements of a Program\n",
    "***"
   ]
  },
  {
   "cell_type": "markdown",
   "metadata": {},
   "source": [
    "###### Topics\n",
    "***\n",
    "\n",
    "- Key words, comments, identifiers, classes and scope, camel-back notation.\n",
    "\n",
    "- Project structure, packages."
   ]
  },
  {
   "cell_type": "markdown",
   "metadata": {},
   "source": [
    "###### Reading Material\n",
    "***\n",
    "Complete Exercise 1.1. and Exercise 1.2 in Chapter 1 (The way of the program) of Think Java -  How to Think Like a Computer Scientist"
   ]
  },
  {
   "cell_type": "markdown",
   "metadata": {},
   "source": [
    "###### 2.1 Reserved Words and Identifiers (22 mins) URL\n",
    "***"
   ]
  },
  {
   "cell_type": "code",
   "execution_count": null,
   "metadata": {},
   "outputs": [],
   "source": [
    "fFile(nParPath=\"./hide/00-ObjectOrientedSoftwareDevolopment/02-BasicElementsofaProgram/hdipOOWk2-ReservedWordsIdentifiers - 20-01-2017.mp4\")"
   ]
  },
  {
   "cell_type": "markdown",
   "metadata": {},
   "source": [
    "###### 2.2 Basic Elements of a Programme (21 mins) URL\n",
    "***"
   ]
  },
  {
   "cell_type": "code",
   "execution_count": null,
   "metadata": {},
   "outputs": [],
   "source": [
    "fFile(nParPath=\"./hide/00-ObjectOrientedSoftwareDevolopment/02-BasicElementsofaProgram/hdipOOWk2-BasicElements - 20-01-2017.mp4\")"
   ]
  },
  {
   "cell_type": "markdown",
   "metadata": {},
   "source": [
    "###### 2.3 Creating the Student Class in Eclipse (23 mins) URL\n",
    "***"
   ]
  },
  {
   "cell_type": "code",
   "execution_count": null,
   "metadata": {},
   "outputs": [],
   "source": [
    "fFile(nParPath=\"./hide/00-ObjectOrientedSoftwareDevolopment/02-BasicElementsofaProgram/hdipOOWk2-SimpleStudentJava - 29-01-2020.mp4\")"
   ]
  },
  {
   "cell_type": "markdown",
   "metadata": {},
   "source": [
    "###### Old Version\n",
    "***"
   ]
  },
  {
   "cell_type": "code",
   "execution_count": null,
   "metadata": {},
   "outputs": [],
   "source": [
    "fFile(nParPath=\"./hide/00-ObjectOrientedSoftwareDevolopment/02-BasicElementsofaProgram/hdipOOWk2-SimpleStudentJava - 24-01-2017___OLD.mp4\")"
   ]
  },
  {
   "cell_type": "markdown",
   "metadata": {},
   "source": [
    "###### 2.5 Reserved Words and Identifiers (Notes in PDF Format) File\n",
    "***"
   ]
  },
  {
   "cell_type": "code",
   "execution_count": null,
   "metadata": {},
   "outputs": [],
   "source": [
    "fFile(nParPath=\"./hide/00-ObjectOrientedSoftwareDevolopment/02-BasicElementsofaProgram/hdipOOWk2-ReservedWordsIdentifiers.pdf\")"
   ]
  },
  {
   "cell_type": "markdown",
   "metadata": {},
   "source": [
    "###### 2.6 Basic Elements of a Programme (Notes in PDF Format)\n",
    "***"
   ]
  },
  {
   "cell_type": "code",
   "execution_count": null,
   "metadata": {},
   "outputs": [],
   "source": [
    "fFile(nParPath=\"./hide/00-ObjectOrientedSoftwareDevolopment/02-BasicElementsofaProgram/hdipOOWk2-BasicElements.pdf\")"
   ]
  },
  {
   "cell_type": "markdown",
   "metadata": {},
   "source": [
    "***\n",
    "## END"
   ]
  },
  {
   "cell_type": "markdown",
   "metadata": {},
   "source": [
    "< [Table of Contents](#top) | [References](#references) >\n",
    "<a id=\"dataTypesandVariables\"></a>\n",
    "***\n",
    "## Data Types and Variables\n",
    "***"
   ]
  },
  {
   "cell_type": "markdown",
   "metadata": {},
   "source": [
    "###### Topics\n",
    "***\n",
    "- Primitive types and their bounds, numeric-convertible types, object types.\n",
    "\n",
    "- Variables,  declaring a variable, assigning values, variable scope, instance variables, local variables.\n",
    "\n",
    "- Underlying representation, conversion and casting."
   ]
  },
  {
   "cell_type": "markdown",
   "metadata": {},
   "source": [
    "###### Exercises\n",
    "***\n",
    "- Complete the Eclipse lab in Section 3.3. Please pay attention to the text case, indentation and brackets. All these matter when programming!\n",
    "\n",
    "- Read Chapter 2 (The way of the program) of Think Java -  How to Think Like a Computer Scientist"
   ]
  },
  {
   "cell_type": "markdown",
   "metadata": {},
   "source": [
    "###### Live Workshop Next Week\n",
    "***\n",
    "There will be an online live workshop on Wednesday 10th February from 6:15 - 7:30pm. The session will be automatically recorded and saved to MS Stream.  You will receive an email invitation in your college email account early next week with details on how to connect to the meeting using MS Teams. You can access MS Teams directly from your college Office 365 dashboard as depicted in this image. If you are using a Mac, you may have to download and install the desktop version. "
   ]
  },
  {
   "cell_type": "code",
   "execution_count": null,
   "metadata": {},
   "outputs": [],
   "source": [
    "fFile(nParPath=\"./hide/00-ObjectOrientedSoftwareDevolopment/03-DataTypesandVariables/Object Oriented Software Development - Live Workshop - 10-02-2021.mp4\")"
   ]
  },
  {
   "cell_type": "markdown",
   "metadata": {},
   "source": [
    "###### 3.1 Data Types (28 mins) URL\n",
    "***"
   ]
  },
  {
   "cell_type": "code",
   "execution_count": null,
   "metadata": {},
   "outputs": [],
   "source": [
    "fFile(nParPath=\"./hide/00-ObjectOrientedSoftwareDevolopment/03-DataTypesandVariables/hdipOOWk3-DataTypes-Updated - 19-01-2018.mp4\")"
   ]
  },
  {
   "cell_type": "markdown",
   "metadata": {},
   "source": [
    "###### Old Version\n",
    "***"
   ]
  },
  {
   "cell_type": "code",
   "execution_count": null,
   "metadata": {},
   "outputs": [],
   "source": [
    "fFile(nParPath=\"./hide/00-ObjectOrientedSoftwareDevolopment/03-DataTypesandVariables/hdipOOWk3-DataTypes-Updated - 19-01-2018.mp4\")"
   ]
  },
  {
   "cell_type": "markdown",
   "metadata": {},
   "source": [
    "###### 3.2 Variables (21 mins) URL\n",
    "***"
   ]
  },
  {
   "cell_type": "code",
   "execution_count": null,
   "metadata": {},
   "outputs": [],
   "source": [
    "fFile(nParPath=\"./hide/00-ObjectOrientedSoftwareDevolopment/03-DataTypesandVariables/hdipOOWk3-Variables - 26-01-2017.mp4\")"
   ]
  },
  {
   "cell_type": "markdown",
   "metadata": {},
   "source": [
    "###### 3.3 Casting and Converting Variables (11 mins) URL\n",
    "***"
   ]
  },
  {
   "cell_type": "code",
   "execution_count": null,
   "metadata": {},
   "outputs": [],
   "source": [
    "fFile(nParPath=\"./hide/00-ObjectOrientedSoftwareDevolopment/03-DataTypesandVariables/Casting and Converting Variables - 05-02-2020.mp4\")"
   ]
  },
  {
   "cell_type": "markdown",
   "metadata": {},
   "source": [
    "###### 3.4 Data Types (Notes in PDF Format) File\n",
    "***"
   ]
  },
  {
   "cell_type": "code",
   "execution_count": null,
   "metadata": {},
   "outputs": [],
   "source": [
    "fFile(nParPath=\"./hide/00-ObjectOrientedSoftwareDevolopment/03-DataTypesandVariables/hdipOOWk3-DataTypes.pdf\")"
   ]
  },
  {
   "cell_type": "markdown",
   "metadata": {},
   "source": [
    "###### 3.5 Variables (Notes in PDF Format)\n",
    "***"
   ]
  },
  {
   "cell_type": "code",
   "execution_count": null,
   "metadata": {},
   "outputs": [],
   "source": [
    "fFile(nParPath=\"./hide/00-ObjectOrientedSoftwareDevolopment/03-DataTypesandVariables/hdipOOWk3-Variables.pdf\")"
   ]
  },
  {
   "cell_type": "markdown",
   "metadata": {},
   "source": [
    "***\n",
    "## END"
   ]
  },
  {
   "cell_type": "markdown",
   "metadata": {},
   "source": [
    "< [Table of Contents](#top) | [References](#references) >\n",
    "<a id=\"operatorsandExpressions\"></a>\n",
    "***\n",
    "## Operators and Expressions\n",
    "***"
   ]
  },
  {
   "cell_type": "markdown",
   "metadata": {},
   "source": [
    "###### Topics\n",
    "***\n",
    "- Boolean operators and logical expressions, truth tables.\n",
    "\n",
    "- Relational operators, primitive types v/s object types.\n",
    "\n",
    "- Evaluating expressions, order of precedence, equality and comparability."
   ]
  },
  {
   "cell_type": "markdown",
   "metadata": {},
   "source": [
    "###### Watch Out for Typos!\n",
    "***\n",
    "- On slide 10, the statement Use the ~ operator in Java should read Use the ^ operator in Java. The ~ is for bitwise NOT\n",
    "\n",
    "- On slide 12, the statement System.out.println(s == t) will output true. However, if we change the declaration of the variable t to String t = new String(“Galway”), it will return false."
   ]
  },
  {
   "cell_type": "markdown",
   "metadata": {},
   "source": [
    "###### Exercises\n",
    "***\n",
    "- Complete Exercise 2.3 in Chapter 2 of Think Java -  How to Think Like a Computer Scientist. You do not have to email or post the exercises to me!"
   ]
  },
  {
   "cell_type": "markdown",
   "metadata": {},
   "source": [
    "###### Workshop this Week!\n",
    "***\n",
    "There will be an online workshop on 13th February from 6:15 - 7:30pm. You are welcome to join in at any time during the workshop. The session will be automatically recorded and saved to MS Stream. I will post the URL for accessing the video stream to Moodle when it becomes available. You should already have received an email invitation from Microsoft Teams, as all students enrolled on this module are members of the distribution list. You can access MS Teams directly from your college Office 365 dashboard as depicted in this image. If you are using a Mac, you may have to download and install the desktop version. "
   ]
  },
  {
   "cell_type": "markdown",
   "metadata": {},
   "source": [
    "###### Operators (27 mins)\n",
    "***"
   ]
  },
  {
   "cell_type": "code",
   "execution_count": null,
   "metadata": {},
   "outputs": [],
   "source": [
    "fFile(nParPath=\"./hide/00-ObjectOrientedSoftwareDevolopment/04-OperatorsandExpressions/hdipOOWk4-Operators - 27-01-2017.mp4\")"
   ]
  },
  {
   "cell_type": "markdown",
   "metadata": {},
   "source": [
    "###### Operators (Notes in PDF Format)\n",
    "***"
   ]
  },
  {
   "cell_type": "code",
   "execution_count": null,
   "metadata": {},
   "outputs": [],
   "source": [
    "fFile(nParPath=\"./hide/00-ObjectOrientedSoftwareDevolopment/04-OperatorsandExpressions/hdipOOWk4-Operators.pdf\")"
   ]
  },
  {
   "cell_type": "markdown",
   "metadata": {},
   "source": [
    "***\n",
    "## END"
   ]
  },
  {
   "cell_type": "markdown",
   "metadata": {},
   "source": [
    "< [Table of Contents](#top) | [References](#references) >\n",
    "<a id=\"objectsClassesVisibilityModifiersMethods\"></a>\n",
    "***\n",
    "## Objects & Classes, Visibility Modifiers and Methods\n",
    "***"
   ]
  },
  {
   "cell_type": "markdown",
   "metadata": {},
   "source": [
    "###### Important Notice\n",
    "***\n",
    "There is a lot of content for you to get through this week! Consequently, you should only read the prescribed reading material if you have the time. Please note that next week is a revision week - there will be no new content. Instead, we will focus on revising weeks 1 - 5 to prepare for Assessment I during the week Mar 1st - Mar 8th. "
   ]
  },
  {
   "cell_type": "markdown",
   "metadata": {},
   "source": [
    "###### Topics\n",
    "***\n",
    "- Object features, constructors and instantiating objects, features and the “dot” notation, the object life cycle.\n",
    "\n",
    "- Visibility modifiers, visibility and encapsulation.\n",
    "\n",
    "- Methods, definining methods, parameters, calling methods."
   ]
  },
  {
   "cell_type": "markdown",
   "metadata": {},
   "source": [
    "###### Reading Material\n",
    "***\n",
    "- Read Chapter 3 (The way of the program) of Think Java -  How to Think Like a Computer Scientist\n",
    "\n",
    "- Review Weeks 1-5 for Moodle Quiz Assessment next week. "
   ]
  },
  {
   "cell_type": "markdown",
   "metadata": {},
   "source": [
    "###### Workshop this Week!\n",
    "***\n",
    "There will be an online workshop on 17th February from 6:15 - 7:30pm. You are welcome to join in at any time during the workshop. The session will be automatically recorded and saved to MS Stream. I will post the URL for accessing the video stream to Moodle when it becomes available. You should already have received an email invitation from Microsoft Teams, as all students enrolled on this module are members of the distribution list. You can access MS Teams directly from your college Office 365 dashboard as depicted in this image. If you are using a Mac, you may have to download and install the desktop version. "
   ]
  },
  {
   "cell_type": "code",
   "execution_count": null,
   "metadata": {},
   "outputs": [],
   "source": [
    "fFile(nParPath=\"./hide/00-ObjectOrientedSoftwareDevolopment/05-ObjectsClassesVisibilityModifiersMethods/Object Oriented Software Development - Live Workshop - 17-02-2021.mp4\")"
   ]
  },
  {
   "cell_type": "markdown",
   "metadata": {},
   "source": [
    "###### 5.1 Classes and Objects (23 mins)\n",
    "***"
   ]
  },
  {
   "cell_type": "code",
   "execution_count": null,
   "metadata": {},
   "outputs": [],
   "source": [
    "fFile(nParPath=\"./hide/00-ObjectOrientedSoftwareDevolopment/05-ObjectsClassesVisibilityModifiersMethods/hdipOOWk5-ClassesObjects - 08-02-2017.mp4\")"
   ]
  },
  {
   "cell_type": "markdown",
   "metadata": {},
   "source": [
    "###### 5.2 Classes and Objects Example (20 mins)\n",
    "***"
   ]
  },
  {
   "cell_type": "code",
   "execution_count": null,
   "metadata": {},
   "outputs": [],
   "source": [
    "fFile(nParPath=\"./hide/00-ObjectOrientedSoftwareDevolopment/05-ObjectsClassesVisibilityModifiersMethods/Classes and Objects Example - 19-02-2020.mp4\")"
   ]
  },
  {
   "cell_type": "markdown",
   "metadata": {},
   "source": [
    "###### 5.3 Visibility Modifiers (11 mins)\n",
    "***"
   ]
  },
  {
   "cell_type": "code",
   "execution_count": null,
   "metadata": {},
   "outputs": [],
   "source": [
    "fFile(nParPath=\"./hide/00-ObjectOrientedSoftwareDevolopment/05-ObjectsClassesVisibilityModifiersMethods/hdipOOWk5-Visibility - 08-02-2017.mp4\")"
   ]
  },
  {
   "cell_type": "markdown",
   "metadata": {},
   "source": [
    "###### 5.4 Visibility Modifiers Example in Eclipse (12 mins)\n",
    "***"
   ]
  },
  {
   "cell_type": "code",
   "execution_count": null,
   "metadata": {},
   "outputs": [],
   "source": [
    "fFile(nParPath=\"./hide/00-ObjectOrientedSoftwareDevolopment/05-ObjectsClassesVisibilityModifiersMethods/hdipOOWk5-Visibility-EclipseChe - 06-02-2017.mp4\")"
   ]
  },
  {
   "cell_type": "markdown",
   "metadata": {},
   "source": [
    "###### 5.5 Methods (23 mins)\n",
    "***"
   ]
  },
  {
   "cell_type": "code",
   "execution_count": null,
   "metadata": {},
   "outputs": [],
   "source": [
    "fFile(nParPath=\"./hide/00-ObjectOrientedSoftwareDevolopment/05-ObjectsClassesVisibilityModifiersMethods/hdipOOWk5-Methods - 13-02-2017.mp4\")"
   ]
  },
  {
   "cell_type": "markdown",
   "metadata": {},
   "source": [
    "###### 5.6 Methods Example in Eclipse (18 mins)\n",
    "***"
   ]
  },
  {
   "cell_type": "code",
   "execution_count": null,
   "metadata": {},
   "outputs": [],
   "source": [
    "fFile(nParPath=\"./hide/00-ObjectOrientedSoftwareDevolopment/05-ObjectsClassesVisibilityModifiersMethods/hdipOOWk5-Methods-EclipseChe - 06-02-2017.mp4\")"
   ]
  },
  {
   "cell_type": "markdown",
   "metadata": {},
   "source": [
    "###### 5.7 Classes & Objects (Notes in PDF Format) File\n",
    "***"
   ]
  },
  {
   "cell_type": "code",
   "execution_count": null,
   "metadata": {},
   "outputs": [],
   "source": [
    "fFile(nParPath=\"./hide/00-ObjectOrientedSoftwareDevolopment/05-ObjectsClassesVisibilityModifiersMethods/hdipOOWk5-ClassesObjects.pdf\")"
   ]
  },
  {
   "cell_type": "markdown",
   "metadata": {},
   "source": [
    "###### 5.8 Visibility & Methods (Notes in PDF Format) File\n",
    "***"
   ]
  },
  {
   "cell_type": "code",
   "execution_count": null,
   "metadata": {},
   "outputs": [],
   "source": [
    "fFile(nParPath=\"./hide/00-ObjectOrientedSoftwareDevolopment/05-ObjectsClassesVisibilityModifiersMethods/hdipOOWk5-Methods.pdf\")"
   ]
  },
  {
   "cell_type": "markdown",
   "metadata": {},
   "source": [
    "###### 5.9 Methods Example in Eclipse Che (Source Code)\n",
    "***"
   ]
  },
  {
   "cell_type": "code",
   "execution_count": null,
   "metadata": {},
   "outputs": [],
   "source": [
    "fFile(nParPath=\"./hide/00-ObjectOrientedSoftwareDevolopment/05-ObjectsClassesVisibilityModifiersMethods/MethodsExample.zip\")"
   ]
  },
  {
   "cell_type": "markdown",
   "metadata": {},
   "source": [
    "***\n",
    "## END"
   ]
  },
  {
   "cell_type": "markdown",
   "metadata": {},
   "source": [
    "< [Table of Contents](#top) | [References](#references) >\n",
    "<a id=\"programControlFlowBranching\"></a>\n",
    "***\n",
    "## Program Control Flow Branching\n",
    "***"
   ]
  },
  {
   "cell_type": "markdown",
   "metadata": {},
   "source": [
    "###### Topics\n",
    "***\n",
    "- If / else if / else statements, nesting If statements, ternary operator;\n",
    "\n",
    "- Switch statements and their usage."
   ]
  },
  {
   "cell_type": "markdown",
   "metadata": {},
   "source": [
    "###### Reading Material\n",
    "***\n",
    "Read Chapter 4 (The way of the program) of Think Java -  How to Think Like a Computer Scientist"
   ]
  },
  {
   "cell_type": "markdown",
   "metadata": {},
   "source": [
    "###### 6.1 Branching - IF Statements (16 mins)\n",
    "***"
   ]
  },
  {
   "cell_type": "code",
   "execution_count": null,
   "metadata": {},
   "outputs": [],
   "source": [
    "fFile(nParPath=\"./hide/00-ObjectOrientedSoftwareDevolopment/06-ProgramControlFlowBranching/hdipOOWk6-Branching-IF - 2017-02-13 #bba2f592.mp4\")"
   ]
  },
  {
   "cell_type": "markdown",
   "metadata": {},
   "source": [
    "###### 6.2 IF Statement Example in Eclipse (19 mins)\n",
    "***"
   ]
  },
  {
   "cell_type": "code",
   "execution_count": null,
   "metadata": {},
   "outputs": [],
   "source": [
    "fFile(nParPath=\"./hide/00-ObjectOrientedSoftwareDevolopment/06-ProgramControlFlowBranching/hdipOOWk6-Branching-IF-Eclipse-Che - 13-02-2017.mp4\")"
   ]
  },
  {
   "cell_type": "markdown",
   "metadata": {},
   "source": [
    "###### 6.3 Branching - Switch Statements (9 mins)\n",
    "***"
   ]
  },
  {
   "cell_type": "code",
   "execution_count": null,
   "metadata": {},
   "outputs": [],
   "source": [
    "fFile(nParPath=\"./hide/00-ObjectOrientedSoftwareDevolopment/06-ProgramControlFlowBranching/hdipOOWk6-Branching-Switch - 13-02-2017.mp4\")"
   ]
  },
  {
   "cell_type": "markdown",
   "metadata": {},
   "source": [
    "###### 6.4 Switch Statement Example in Eclipse (6 mins)\n",
    "***"
   ]
  },
  {
   "cell_type": "code",
   "execution_count": null,
   "metadata": {},
   "outputs": [],
   "source": [
    "fFile(nParPath=\"./hide/00-ObjectOrientedSoftwareDevolopment/06-ProgramControlFlowBranching/Switch Statement Example in Eclipse - 11-03-2020.mp4\")"
   ]
  },
  {
   "cell_type": "markdown",
   "metadata": {},
   "source": [
    "###### 6.5 Branching (Notes in PDF Format) File\n",
    "***"
   ]
  },
  {
   "cell_type": "code",
   "execution_count": null,
   "metadata": {},
   "outputs": [],
   "source": [
    "fFile(nParPath=\"./hide/00-ObjectOrientedSoftwareDevolopment/06-ProgramControlFlowBranching/hdipOOWk6-Branching.pdf\")"
   ]
  },
  {
   "cell_type": "markdown",
   "metadata": {},
   "source": [
    "###### 6.6 Simple Area Calculator (Source Code)\n",
    "***"
   ]
  },
  {
   "cell_type": "code",
   "execution_count": null,
   "metadata": {},
   "outputs": [],
   "source": [
    "fFile(nParPath=\"./hide/00-ObjectOrientedSoftwareDevolopment/06-ProgramControlFlowBranching/SimpleAreaCalcApp.zip\")"
   ]
  },
  {
   "cell_type": "markdown",
   "metadata": {},
   "source": [
    "***\n",
    "## END"
   ]
  },
  {
   "cell_type": "markdown",
   "metadata": {},
   "source": [
    "< [Table of Contents](#top) | [References](#references) >\n",
    "<a id=\"programControlFlowIteration\"></a>\n",
    "***\n",
    "## Program Control Flow: Iteration\n",
    "***"
   ]
  },
  {
   "cell_type": "markdown",
   "metadata": {},
   "source": [
    "###### Topics\n",
    "***\n",
    "- Loops and control variables. Basic elements of iterative constructs.\n",
    "\n",
    "- While, For and Do loops and their appropriate usage, break and continue statements."
   ]
  },
  {
   "cell_type": "markdown",
   "metadata": {},
   "source": [
    "###### Exercises\n",
    "***\n",
    "- The Fibonacci numbers are the integer sequence 0, 1, 1, 2, 3, 5, 8, 13, 21, ..., in which each item in the sequence is formed by adding the previous two. Write a programme that uses a for loop to find all the Fibonacci numbers in a series of size n. Your programme should use the size n as a loop control variable.\n",
    "\n",
    "- Write a programme that takes a string as input and outputs the reverse of the string. If the string is palindromic, the programme should state so. Hint: use the charAt(int index) method of String to access the ith element of a sequence of characters. You should also use the StringBuffer class to build the reverse string inside the loop.\n",
    "\n",
    "- Create an alternative number guessing game, where you pick a number and the computer gets 12 tries to guess the correct number. The computer should select the number in the middle of the range, e.g. 50 for the range [1-100]. You need to tell the computer if the guess was too low or too high. If the guess is too low, the range should be reset to [1-50] with a guess of 25 and the process repeated...\n",
    "\n",
    "- Implement the version of the number guessing game in (3) again, but this time do not use a loop. Instead see if can implement the same functionality using a recursive method call. Note: if you can manage this at this point in the module, I will take my hat off to you... :)"
   ]
  },
  {
   "cell_type": "markdown",
   "metadata": {},
   "source": [
    "###### Reading Material\n",
    "***\n",
    "\n",
    "Read Chapter 7 (The way of the program) of Think Java -  How to Think Like a Computer Scientist"
   ]
  },
  {
   "cell_type": "markdown",
   "metadata": {},
   "source": [
    "###### 7.1 Loops (26 mins) \n",
    "***"
   ]
  },
  {
   "cell_type": "code",
   "execution_count": null,
   "metadata": {},
   "outputs": [],
   "source": [
    "fFile(nParPath=\"./hide/00-ObjectOrientedSoftwareDevolopment/07-ProgramControlFlowIteration/hdipOOWk7-Iteration - 15-02-2017.mp4\")"
   ]
  },
  {
   "cell_type": "markdown",
   "metadata": {},
   "source": [
    "###### 7.2 Adding a Loop to the SimpleAreaCalculator - Eclipse (7 mins)\n",
    "***"
   ]
  },
  {
   "cell_type": "code",
   "execution_count": null,
   "metadata": {},
   "outputs": [],
   "source": [
    "fFile(nParPath=\"./hide/00-ObjectOrientedSoftwareDevolopment/07-ProgramControlFlowIteration/Adding a Loop to the SimpleAreaCalculator - 17-03-2020.mp4\")"
   ]
  },
  {
   "cell_type": "markdown",
   "metadata": {},
   "source": [
    "###### 7.3 Number Guessing Game - Eclipse (16 mins) \n",
    "***"
   ]
  },
  {
   "cell_type": "code",
   "execution_count": null,
   "metadata": {},
   "outputs": [],
   "source": [
    "fFile(nParPath=\"./hide/00-ObjectOrientedSoftwareDevolopment/07-ProgramControlFlowIteration/Number Guessing Game - 17-03-2020.mp4\")"
   ]
  },
  {
   "cell_type": "markdown",
   "metadata": {},
   "source": [
    "###### 7.4 Iteration (Notes in PDF Format) File\n",
    "***"
   ]
  },
  {
   "cell_type": "code",
   "execution_count": null,
   "metadata": {},
   "outputs": [],
   "source": [
    "fFile(nParPath=\"./hide/00-ObjectOrientedSoftwareDevolopment/07-ProgramControlFlowIteration/hdipOOWk7-Iteration.pdf\")"
   ]
  },
  {
   "cell_type": "markdown",
   "metadata": {},
   "source": [
    "###### 7.5 Guessing Game (Source Code) File\n",
    "***"
   ]
  },
  {
   "cell_type": "code",
   "execution_count": null,
   "metadata": {},
   "outputs": [],
   "source": [
    "fFile(nParPath=\"./hide/00-ObjectOrientedSoftwareDevolopment/07-ProgramControlFlowIteration/GuessingGame.zip\")"
   ]
  },
  {
   "cell_type": "markdown",
   "metadata": {},
   "source": [
    "###### 7.6 Fibonacci Sequence Solution (16 mins) \n",
    "***"
   ]
  },
  {
   "cell_type": "code",
   "execution_count": null,
   "metadata": {},
   "outputs": [],
   "source": [
    "fFile(nParPath=\"./hide/00-ObjectOrientedSoftwareDevolopment/07-ProgramControlFlowIteration/Fibonacci Sequence Solution - 25-03-2020.mp4\")"
   ]
  },
  {
   "cell_type": "markdown",
   "metadata": {},
   "source": [
    "###### 7.7 String Reverser Solution (12 mins) \n",
    "***"
   ]
  },
  {
   "cell_type": "code",
   "execution_count": null,
   "metadata": {},
   "outputs": [],
   "source": [
    "fFile(nParPath=\"./hide/00-ObjectOrientedSoftwareDevolopment/07-ProgramControlFlowIteration/String Reverser Solution - 25-03-2020.mp4\")"
   ]
  },
  {
   "cell_type": "markdown",
   "metadata": {},
   "source": [
    "###### 7.8 Number Guessing Game (20 mins) \n",
    "***"
   ]
  },
  {
   "cell_type": "code",
   "execution_count": null,
   "metadata": {},
   "outputs": [],
   "source": [
    "fFile(nParPath=\"./hide/00-ObjectOrientedSoftwareDevolopment/07-ProgramControlFlowIteration/Alternative Number Guessing Game - 25-03-2020.mp4\")"
   ]
  },
  {
   "cell_type": "markdown",
   "metadata": {},
   "source": [
    "###### 7.9 Recursive Number Guessing Game (11 mins) \n",
    "***"
   ]
  },
  {
   "cell_type": "code",
   "execution_count": null,
   "metadata": {},
   "outputs": [],
   "source": [
    "fFile(nParPath=\"./hide/00-ObjectOrientedSoftwareDevolopment/07-ProgramControlFlowIteration/Recursive Number Guessing Game - 25-03-2020.mp4\")"
   ]
  },
  {
   "cell_type": "markdown",
   "metadata": {},
   "source": [
    "###### 7.10 Source Code of Solutions to Fibonacci exercise. File\n",
    "***"
   ]
  },
  {
   "cell_type": "code",
   "execution_count": null,
   "metadata": {},
   "outputs": [],
   "source": [
    "fFile(nParPath=\"./hide/00-ObjectOrientedSoftwareDevolopment/07-ProgramControlFlowIteration/hdipOOSDExerciseFibonacci.zip\")"
   ]
  },
  {
   "cell_type": "markdown",
   "metadata": {},
   "source": [
    "###### 7.11 Source Code of Solutions to String Reverser exercise. File\n",
    "***"
   ]
  },
  {
   "cell_type": "code",
   "execution_count": null,
   "metadata": {},
   "outputs": [],
   "source": [
    "fFile(nParPath=\"./hide/00-ObjectOrientedSoftwareDevolopment/07-ProgramControlFlowIteration/hdipOOSDExerciseStringReverser.zip\")"
   ]
  },
  {
   "cell_type": "markdown",
   "metadata": {},
   "source": [
    "###### 7.12 Source Code of Solutions to Number Guessing Game exercise.\n",
    "***"
   ]
  },
  {
   "cell_type": "code",
   "execution_count": null,
   "metadata": {},
   "outputs": [],
   "source": [
    "fFile(nParPath=\"./hide/00-ObjectOrientedSoftwareDevolopment/07-ProgramControlFlowIteration/hdipOOSDExerciseNumberGuessingGame.zip\")"
   ]
  },
  {
   "cell_type": "markdown",
   "metadata": {},
   "source": [
    "***\n",
    "## END"
   ]
  },
  {
   "cell_type": "markdown",
   "metadata": {},
   "source": [
    "< [Table of Contents](#top) | [References](#references) >\n",
    "<a id=\"arrays\"></a>\n",
    "***\n",
    "## Arrays\n",
    "***"
   ]
  },
  {
   "cell_type": "markdown",
   "metadata": {},
   "source": [
    "###### Topics\n",
    "***\n",
    "- Arrays v/s scalars, simple and inline declaration, accessing array elements.\n",
    "\n",
    "- Primitive v/s object arrays, Resizing arrays."
   ]
  },
  {
   "cell_type": "markdown",
   "metadata": {},
   "source": [
    "###### Exercises\n",
    "***\n",
    "- Write a programme called PrimeParser that reads in a set of numbers into the String[] args array of main() and then converts them to an integer array. The integer array should discard any number that is not prime. A number is prime if its only divisors are itself and 1. One (naive, but okay for this exercise) way to test if a number is prime is to check if every integer between 1 and itself (exclusive) divides evenly.\n",
    "\n",
    "- Write a programme called OneTimePad, that declares a method called setKey() with a signature void setKey(String key) and another method called encrypt() with a signature String encrypt(String message). The setKey() method should store the String parameter as an instance variable. The encrypt() method should encrypt the String message parameter by looping over each character in the String and performing an XOR operation (^) on it with the character at the same index in the key. Note: XOR is applied to integers (ints) in the form int a = b ^ c. Once you have this done, pass the encrypted text back into the encrypt() method and examine the output..."
   ]
  },
  {
   "cell_type": "markdown",
   "metadata": {},
   "source": [
    "###### Reading Material\n",
    "***\n",
    "Read Chapters 12 and 13 (The way of the program) of Think Java -  How to Think Like a Computer Scientist"
   ]
  },
  {
   "cell_type": "markdown",
   "metadata": {},
   "source": [
    "###### 8.1 Arrays (28 mins) \n",
    "***"
   ]
  },
  {
   "cell_type": "code",
   "execution_count": null,
   "metadata": {},
   "outputs": [],
   "source": [
    "fFile(nParPath=\"./hide/00-ObjectOrientedSoftwareDevolopment/08-Arrays/hdipOOWk8-Arrays - 01-03-2017.mp4\")"
   ]
  },
  {
   "cell_type": "markdown",
   "metadata": {},
   "source": [
    "###### 8.2 Reading Programme Arguments from Main (15 mins) \n",
    "***"
   ]
  },
  {
   "cell_type": "code",
   "execution_count": null,
   "metadata": {},
   "outputs": [],
   "source": [
    "fFile(nParPath=\"./hide/00-ObjectOrientedSoftwareDevolopment/08-Arrays/Reading Programme Arguments from Main - 2020-03-24 #5d72ecbc.mp4\")"
   ]
  },
  {
   "cell_type": "markdown",
   "metadata": {},
   "source": [
    "###### 8.3 Working with Arrays of Numbers (16 mins) \n",
    "***"
   ]
  },
  {
   "cell_type": "code",
   "execution_count": null,
   "metadata": {},
   "outputs": [],
   "source": [
    "fFile(nParPath=\"./hide/00-ObjectOrientedSoftwareDevolopment/08-Arrays/Writing Your First Programme (6 mins) - 29-01-2020.mp4\")"
   ]
  },
  {
   "cell_type": "markdown",
   "metadata": {},
   "source": [
    "###### 8.4 Arrays of Characters (19 mins) \n",
    "***"
   ]
  },
  {
   "cell_type": "code",
   "execution_count": null,
   "metadata": {},
   "outputs": [],
   "source": [
    "fFile(nParPath=\"./hide/00-ObjectOrientedSoftwareDevolopment/08-Arrays/Arrays of Characters - 2020-03-24 #34a52452.mp4\")"
   ]
  },
  {
   "cell_type": "markdown",
   "metadata": {},
   "source": [
    "###### 8.5 Reading Programme Arguments from Main (Source Code) File\n",
    "***"
   ]
  },
  {
   "cell_type": "code",
   "execution_count": null,
   "metadata": {},
   "outputs": [],
   "source": [
    "fFile(nParPath=\"./hide/00-ObjectOrientedSoftwareDevolopment/08-Arrays/ProgrammeArgs.zip\")"
   ]
  },
  {
   "cell_type": "markdown",
   "metadata": {},
   "source": [
    "###### 8.6 Working with Arrays of Numbers (Source Code) File\n",
    "***"
   ]
  },
  {
   "cell_type": "code",
   "execution_count": null,
   "metadata": {},
   "outputs": [],
   "source": [
    "fFile(nParPath=\"./hide/00-ObjectOrientedSoftwareDevolopment/08-Arrays/NumberArrayExample.zip\")"
   ]
  },
  {
   "cell_type": "markdown",
   "metadata": {},
   "source": [
    "###### 8.7 Arrays of Characters (Source Code) File\n",
    "***"
   ]
  },
  {
   "cell_type": "code",
   "execution_count": null,
   "metadata": {},
   "outputs": [],
   "source": [
    "fFile(nParPath=\"./hide/00-ObjectOrientedSoftwareDevolopment/08-Arrays/CharacterArrayExample.zip\")"
   ]
  },
  {
   "cell_type": "markdown",
   "metadata": {},
   "source": [
    "###### 8.8 Arrays (Notes in PDF Format) File\n",
    "***"
   ]
  },
  {
   "cell_type": "code",
   "execution_count": null,
   "metadata": {},
   "outputs": [],
   "source": [
    "fFile(nParPath=\"./hide/00-ObjectOrientedSoftwareDevolopment/08-Arrays/hdipOOWk8-Arrays.pdf\")"
   ]
  },
  {
   "cell_type": "markdown",
   "metadata": {},
   "source": [
    "###### 8.9 Solution to Exercise 1 - Prime Numbers (16 mins) \n",
    "***"
   ]
  },
  {
   "cell_type": "code",
   "execution_count": null,
   "metadata": {},
   "outputs": [],
   "source": [
    "fFile(nParPath=\"./hide/00-ObjectOrientedSoftwareDevolopment/08-Arrays/Solution to Arrays Exercise 1 - Prime Numbers - 2020-03-30 #c22e2274.mp4\")"
   ]
  },
  {
   "cell_type": "markdown",
   "metadata": {},
   "source": [
    "###### 8.10 Solution to Exercise 2 - One Time Pad (11 mins)\n",
    "***"
   ]
  },
  {
   "cell_type": "code",
   "execution_count": null,
   "metadata": {},
   "outputs": [],
   "source": [
    "fFile(nParPath=\"./hide/00-ObjectOrientedSoftwareDevolopment/08-Arrays/Arrays Solution to Exercise 2 - One Time Pad - 2020-03-30 #88303ea0.mp4\")"
   ]
  },
  {
   "cell_type": "markdown",
   "metadata": {},
   "source": [
    "***\n",
    "## END"
   ]
  },
  {
   "cell_type": "markdown",
   "metadata": {},
   "source": [
    "< [Table of Contents](#top) | [References](#references) >\n",
    "<a id=\"creatingaStudentManagerApp\"></a>\n",
    "***\n",
    "## Creating a Student Manager App\n",
    "***"
   ]
  },
  {
   "cell_type": "markdown",
   "metadata": {},
   "source": [
    "The topics covered in weeks 6 - 9 will be examined in the assessment next week. Specifically, you will have one hour and thirty minutes to answer 38 questions worth a total of 82 marks, i.e. 82 = 100%. Please note that the questions will be a mixture of MCQ / Code Magnets and consistent with the following format:\n",
    "\n",
    "- Questions 1 - 5: IF Statements, 2 Marks Each = 10 Marks.\n",
    "\n",
    "- Questions 6 - 10: SWITCH Statements, 2 Marks Each = 10 Marks.\n",
    "\n",
    "- Questions 11 - 15: WHILE Loops, 2 Marks Each = 10 Marks.\n",
    "\n",
    "- Questions 16 - 20: DO Loops, 2 Marks Each = 10 Marks.\n",
    "\n",
    "- Questions 21 - 15: FOR Loops, 2 Marks Each = 10 Marks.\n",
    "\n",
    "- Questions 26 - 30: Declaring Arrays, 2 Marks Each = 10 Marks.\n",
    "\n",
    "- Questions 31 - 35: Accessing Array Elements, 2 Marks Each = 10 Marks.\n",
    "\n",
    "- Questions 36 - 38: Iterating over Arrays, 4 Marks Each = 12 Marks."
   ]
  },
  {
   "cell_type": "markdown",
   "metadata": {},
   "source": [
    "###### Topics\n",
    "***\n",
    "- Using a command line user interface to access a student manager application.\n",
    "\n",
    "- The application will store a collection of students in an array and expose methods for adding, deleting and searching."
   ]
  },
  {
   "cell_type": "markdown",
   "metadata": {},
   "source": [
    "###### Session 1: Application Overview and Building the Application Structure (14 mins) \n",
    "***"
   ]
  },
  {
   "cell_type": "code",
   "execution_count": null,
   "metadata": {},
   "outputs": [],
   "source": [
    "fFile(nParPath=\"./hide/00-ObjectOrientedSoftwareDevolopment/09-CreatingaStudentManagerApp/Student Manager App - Session 1 - 2020-03-29 #ab4e427c.mp4\")"
   ]
  },
  {
   "cell_type": "markdown",
   "metadata": {},
   "source": [
    "###### Session 2: Creating the Student Class (18 mins) \n",
    "***"
   ]
  },
  {
   "cell_type": "code",
   "execution_count": null,
   "metadata": {},
   "outputs": [],
   "source": [
    "fFile(nParPath=\"./hide/00-ObjectOrientedSoftwareDevolopment/09-CreatingaStudentManagerApp/Student Manager App Session 2 - 2020-03-29 #e9fb5942.mp4\")"
   ]
  },
  {
   "cell_type": "markdown",
   "metadata": {},
   "source": [
    "###### Session 3: Implementing the StudentManager Class (21 mins) \n",
    "***"
   ]
  },
  {
   "cell_type": "code",
   "execution_count": null,
   "metadata": {},
   "outputs": [],
   "source": [
    "fFile(nParPath=\"./hide/00-ObjectOrientedSoftwareDevolopment/09-CreatingaStudentManagerApp/Student Manager App Session 3 - 2020-03-29 #cba17494.mp4\")"
   ]
  },
  {
   "cell_type": "markdown",
   "metadata": {},
   "source": [
    "###### Session 4: Implementing a Simple Menu System (21 mins) \n",
    "***"
   ]
  },
  {
   "cell_type": "code",
   "execution_count": null,
   "metadata": {},
   "outputs": [],
   "source": [
    "fFile(nParPath=\"./hide/00-ObjectOrientedSoftwareDevolopment/09-CreatingaStudentManagerApp/Student Manager App Session 4 - 2020-03-29 #c0d1c76c.mp4\")"
   ]
  },
  {
   "cell_type": "markdown",
   "metadata": {},
   "source": [
    "###### Session 5: Finishing the Menus (23 mins) \n",
    "***"
   ]
  },
  {
   "cell_type": "code",
   "execution_count": null,
   "metadata": {},
   "outputs": [],
   "source": [
    "fFile(nParPath=\"./hide/00-ObjectOrientedSoftwareDevolopment/09-CreatingaStudentManagerApp/Student Manager App Session 5 - 2020-03-30 #d5a2b687.mp4\")"
   ]
  },
  {
   "cell_type": "markdown",
   "metadata": {},
   "source": [
    "###### Session 6: Running and Testing the Programme (22 mins) \n",
    "***"
   ]
  },
  {
   "cell_type": "code",
   "execution_count": null,
   "metadata": {},
   "outputs": [],
   "source": [
    "fFile(nParPath=\"./hide/00-ObjectOrientedSoftwareDevolopment/09-CreatingaStudentManagerApp/Student Manager App Session 6 - 2020-03-30 #f1a37801.mp4\")"
   ]
  },
  {
   "cell_type": "markdown",
   "metadata": {},
   "source": [
    "###### Session 7: Packaging and Deploying the Programme (8 mins) \n",
    "***"
   ]
  },
  {
   "cell_type": "code",
   "execution_count": null,
   "metadata": {},
   "outputs": [],
   "source": [
    "fFile(nParPath=\"./hide/00-ObjectOrientedSoftwareDevolopment/09-CreatingaStudentManagerApp/Student Manager App Session 7 - 2020-03-30 #6a4dce37.mp4\")"
   ]
  },
  {
   "cell_type": "markdown",
   "metadata": {},
   "source": [
    "###### 9.1 Source Code for Student Manager App (Zip Archive)\n",
    "***"
   ]
  },
  {
   "cell_type": "code",
   "execution_count": null,
   "metadata": {},
   "outputs": [],
   "source": [
    "fFile(nParPath=\"./hide/00-ObjectOrientedSoftwareDevolopment/09-CreatingaStudentManagerApp/hdip-student-manager-1.0.zip\")"
   ]
  },
  {
   "cell_type": "markdown",
   "metadata": {},
   "source": [
    "***\n",
    "## END"
   ]
  },
  {
   "cell_type": "markdown",
   "metadata": {},
   "source": [
    "< [Table of Contents](#top) | [References](#references) >\n",
    "<a id=\"charactersandStrings\"></a>\n",
    "***\n",
    "## Characters and Strings\n",
    "***"
   ]
  },
  {
   "cell_type": "markdown",
   "metadata": {},
   "source": [
    "###### Topics\n",
    "***\n",
    "\n",
    "- Character arrays, string representation and mutability.\n",
    "\n",
    "- The String class and its methods, string pools.\n",
    "\n",
    "- StringBuilders and the toString() method."
   ]
  },
  {
   "cell_type": "markdown",
   "metadata": {},
   "source": [
    "###### Reading Material\n",
    "***\n",
    "\n",
    "Read Chapter 8 (The way of the program) of Think Java -  How to Think Like a Computer Scientist"
   ]
  },
  {
   "cell_type": "markdown",
   "metadata": {},
   "source": [
    "###### Exercises\n",
    "***\n",
    "- Remove the redundant code in the class CaesarCipher by creating a private method with the signature private String transform(String s, boolean encrypt) that adds the key value for encrypt and subtracts the key value for decrypt. The transform() method should also replace the inefficient String construction with a StringBuilder. The existing encrypt() and decrypt() methods should both call the transform() method and pass in the correct parameters.\n",
    "\n",
    "- An n-gram, also called a k-mer, is a subsequence of text of size n and can be used for a large variety of string processing applications. For example the 4-grams of HAPPY DAYS! are HAPP, APPY, PPY_, PY_D... Create a class called NGramGenerator that exposes a method with the signature public String[] getNGrams(String s, int n) that parses a String s and returns all the n-grams of size n in a String array."
   ]
  },
  {
   "cell_type": "markdown",
   "metadata": {},
   "source": [
    "###### 10.1 Strings (36 mins...Sorry!) \n",
    "***"
   ]
  },
  {
   "cell_type": "code",
   "execution_count": null,
   "metadata": {},
   "outputs": [],
   "source": [
    "fFile(nParPath=\"./hide/00-ObjectOrientedSoftwareDevolopment/10-CharactersandStrings/hdipOOWk10-Strings - 13-03-2017.mp4\")"
   ]
  },
  {
   "cell_type": "markdown",
   "metadata": {},
   "source": [
    "###### 10.2 Programming a Caesar Cipher (15 mins) \n",
    "***"
   ]
  },
  {
   "cell_type": "code",
   "execution_count": null,
   "metadata": {},
   "outputs": [],
   "source": [
    "fFile(nParPath=\"./hide/00-ObjectOrientedSoftwareDevolopment/10-CharactersandStrings/Programming a Caesar Cipher - 2020-04-21 #0762b64e.mp4\")"
   ]
  },
  {
   "cell_type": "markdown",
   "metadata": {},
   "source": [
    "###### 10.3 Programming a Custom String Builder (25 mins) \n",
    "***"
   ]
  },
  {
   "cell_type": "code",
   "execution_count": null,
   "metadata": {},
   "outputs": [],
   "source": [
    "fFile(nParPath=\"./hide/00-ObjectOrientedSoftwareDevolopment/10-CharactersandStrings/Programming a Custom String Builder - 2020-04-21 #cbd59856.mp4\")"
   ]
  },
  {
   "cell_type": "markdown",
   "metadata": {},
   "source": [
    "###### 10.4 Strings (Notes in PDF Format) File\n",
    "***"
   ]
  },
  {
   "cell_type": "code",
   "execution_count": null,
   "metadata": {},
   "outputs": [],
   "source": [
    "fFile(nParPath=\"./hide/00-ObjectOrientedSoftwareDevolopment/10-CharactersandStrings/hdipOOWk10-Strings.pdf\")"
   ]
  },
  {
   "cell_type": "markdown",
   "metadata": {},
   "source": [
    "###### 10.5 Programming a Caesar Cipher (Source Code) File\n",
    "***"
   ]
  },
  {
   "cell_type": "code",
   "execution_count": null,
   "metadata": {},
   "outputs": [],
   "source": [
    "fFile(nParPath=\"./hide/00-ObjectOrientedSoftwareDevolopment/10-CharactersandStrings/hdipOOWk10-CaesarCipher.zip\")"
   ]
  },
  {
   "cell_type": "markdown",
   "metadata": {},
   "source": [
    "###### 10.6 Programming a custom String Builder (Source Code) File\n",
    "***"
   ]
  },
  {
   "cell_type": "code",
   "execution_count": null,
   "metadata": {},
   "outputs": [],
   "source": [
    "fFile(nParPath=\"./hide/00-ObjectOrientedSoftwareDevolopment/10-CharactersandStrings/hdipOOWk10-SimpleStringBuilder.zip\")"
   ]
  },
  {
   "cell_type": "markdown",
   "metadata": {},
   "source": [
    "###### 10.7 Solution to Exercise 1 - Caesar Cipher Refactoring (9 mins) \n",
    "***"
   ]
  },
  {
   "cell_type": "code",
   "execution_count": null,
   "metadata": {},
   "outputs": [],
   "source": [
    "fFile(nParPath=\"./hide/00-ObjectOrientedSoftwareDevolopment/10-CharactersandStrings/Solution to Exercise 1 - Caesar Cipher Refactoring - 2020-04-21 #2e79da68.mp4\")"
   ]
  },
  {
   "cell_type": "markdown",
   "metadata": {},
   "source": [
    "###### 10.8 Solution to Exercise 2 - Processing n-Grams (10 mins)\n",
    "***"
   ]
  },
  {
   "cell_type": "code",
   "execution_count": null,
   "metadata": {},
   "outputs": [],
   "source": [
    "fFile(nParPath=\"./hide/00-ObjectOrientedSoftwareDevolopment/10-CharactersandStrings/Solution to Exercise 2 - Processing n-Grams - 2020-04-21 #4b2901f9.mp4\")"
   ]
  },
  {
   "cell_type": "markdown",
   "metadata": {},
   "source": [
    "***\n",
    "## END"
   ]
  },
  {
   "cell_type": "markdown",
   "metadata": {},
   "source": [
    "< [Table of Contents](#top) | [References](#references) >\n",
    "<a id=\"multidimensionalArrays\"></a>\n",
    "***\n",
    "## Multidimensional Arrays\n",
    "***"
   ]
  },
  {
   "cell_type": "markdown",
   "metadata": {},
   "source": [
    "###### Topics\n",
    "***\n",
    "- Declaring 2D and n-dimensional arrays, iterating over a 2D array, asymmetric arrays.\n",
    "\n",
    "- Using a 2D array to implement a Vigenère Cipher."
   ]
  },
  {
   "cell_type": "markdown",
   "metadata": {},
   "source": [
    "###### Exercises\n",
    "***\n",
    "- Remove the redundant code in the class Vigenere shared by the encrypt() and decrypt() methods by writing a new private method that implements the shared behaviour. The encrypt() and decrypt() methods should delegate their behaviour to the new method. \n",
    "\n",
    "- Make the necessary changes to the class Vigenere to pad out (repeat) the key where the key length is shorter than the length of the text to encipher. The original cipher key should be restored after each operation."
   ]
  },
  {
   "cell_type": "markdown",
   "metadata": {},
   "source": [
    "###### 11.1 Multi-Dimensional Arrays (25 mins) \n",
    "***"
   ]
  },
  {
   "cell_type": "code",
   "execution_count": null,
   "metadata": {},
   "outputs": [],
   "source": [
    "fFile(nParPath=\"./hide/00-ObjectOrientedSoftwareDevolopment/11-MultidimensionalArrays/hdipOOWk11-MultiDimensionalArrays - 29-03-2017.mp4\")"
   ]
  },
  {
   "cell_type": "markdown",
   "metadata": {},
   "source": [
    "###### 11.2 Tabula Recta for Vigenère Cipher File\n",
    "***"
   ]
  },
  {
   "cell_type": "markdown",
   "metadata": {},
   "source": [
    "```java\n",
    "\tprivate char[][] tabulaRecta = { \n",
    "\t\t{'A','B','C','D','E','F','G','H','I','J','K','L','M','N','O','P','Q','R','S','T','U','V','W','X','Y','Z'},\n",
    "\t\t{'B','C','D','E','F','G','H','I','J','K','L','M','N','O','P','Q','R','S','T','U','V','W','X','Y','Z','A'},\n",
    "\t\t{'C','D','E','F','G','H','I','J','K','L','M','N','O','P','Q','R','S','T','U','V','W','X','Y','Z','A','B'},\n",
    "\t\t{'D','E','F','G','H','I','J','K','L','M','N','O','P','Q','R','S','T','U','V','W','X','Y','Z','A','B','C'},\n",
    "\t\t{'E','F','G','H','I','J','K','L','M','N','O','P','Q','R','S','T','U','V','W','X','Y','Z','A','B','C','D'},\n",
    "\t\t{'F','G','H','I','J','K','L','M','N','O','P','Q','R','S','T','U','V','W','X','Y','Z','A','B','C','D','E'},\n",
    "\t\t{'G','H','I','J','K','L','M','N','O','P','Q','R','S','T','U','V','W','X','Y','Z','A','B','C','D','E','F'},\n",
    "\t\t{'H','I','J','K','L','M','N','O','P','Q','R','S','T','U','V','W','X','Y','Z','A','B','C','D','E','F','G'},\n",
    "\t\t{'I','J','K','L','M','N','O','P','Q','R','S','T','U','V','W','X','Y','Z','A','B','C','D','E','F','G','H'},\n",
    "\t\t{'J','K','L','M','N','O','P','Q','R','S','T','U','V','W','X','Y','Z','A','B','C','D','E','F','G','H','I'},\n",
    "\t\t{'K','L','M','N','O','P','Q','R','S','T','U','V','W','X','Y','Z','A','B','C','D','E','F','G','H','I','J'},\n",
    "\t\t{'L','M','N','O','P','Q','R','S','T','U','V','W','X','Y','Z','A','B','C','D','E','F','G','H','I','J','K'},\n",
    "\t\t{'M','N','O','P','Q','R','S','T','U','V','W','X','Y','Z','A','B','C','D','E','F','G','H','I','J','K','L'},\n",
    "\t\t{'N','O','P','Q','R','S','T','U','V','W','X','Y','Z','A','B','C','D','E','F','G','H','I','J','K','L','M'},\n",
    "\t\t{'O','P','Q','R','S','T','U','V','W','X','Y','Z','A','B','C','D','E','F','G','H','I','J','K','L','M','N'},\n",
    "\t\t{'P','Q','R','S','T','U','V','W','X','Y','Z','A','B','C','D','E','F','G','H','I','J','K','L','M','N','O'},\n",
    "\t\t{'Q','R','S','T','U','V','W','X','Y','Z','A','B','C','D','E','F','G','H','I','J','K','L','M','N','O','P'},\n",
    "\t\t{'R','S','T','U','V','W','X','Y','Z','A','B','C','D','E','F','G','H','I','J','K','L','M','N','O','P','Q'},\n",
    "\t\t{'S','T','U','V','W','X','Y','Z','A','B','C','D','E','F','G','H','I','J','K','L','M','N','O','P','Q','R'},\n",
    "\t\t{'T','U','V','W','X','Y','Z','A','B','C','D','E','F','G','H','I','J','K','L','M','N','O','P','Q','R','S'},\n",
    "\t\t{'U','V','W','X','Y','Z','A','B','C','D','E','F','G','H','I','J','K','L','M','N','O','P','Q','R','S','T'},\n",
    "\t\t{'V','W','X','Y','Z','A','B','C','D','E','F','G','H','I','J','K','L','M','N','O','P','Q','R','S','T','U'},\n",
    "\t\t{'W','X','Y','Z','A','B','C','D','E','F','G','H','I','J','K','L','M','N','O','P','Q','R','S','T','U','V'},\n",
    "\t\t{'X','Y','Z','A','B','C','D','E','F','G','H','I','J','K','L','M','N','O','P','Q','R','S','T','U','V','W'},\n",
    "\t\t{'Y','Z','A','B','C','D','E','F','G','H','I','J','K','L','M','N','O','P','Q','R','S','T','U','V','W','X'},\n",
    "\t\t{'Z','A','B','C','D','E','F','G','H','I','J','K','L','M','N','O','P','Q','R','S','T','U','V','W','X','Y'}\n",
    "\t};\n",
    "```"
   ]
  },
  {
   "cell_type": "markdown",
   "metadata": {},
   "source": [
    "###### 11.3 Programming a Vigenère Cipher (32 mins) \n",
    "***"
   ]
  },
  {
   "cell_type": "code",
   "execution_count": null,
   "metadata": {},
   "outputs": [],
   "source": [
    "fFile(nParPath=\"./hide/00-ObjectOrientedSoftwareDevolopment/11-MultidimensionalArrays/Programming a Vigenère Cipher - 2020-04-23 #1771cf9b.mp4\")"
   ]
  },
  {
   "cell_type": "markdown",
   "metadata": {},
   "source": [
    "###### 11.4 Multi-Dimensional Arrays (Notes in PDF Format) File\n",
    "***"
   ]
  },
  {
   "cell_type": "code",
   "execution_count": null,
   "metadata": {},
   "outputs": [],
   "source": [
    "fFile(nParPath=\"./hide/00-ObjectOrientedSoftwareDevolopment/11-MultidimensionalArrays/hdipOOWk11-MultiDimensionalArrays.pdf\")"
   ]
  },
  {
   "cell_type": "markdown",
   "metadata": {},
   "source": [
    "###### 11.5 Programming a Vigenère Cipher (Source Code) File\n",
    "***"
   ]
  },
  {
   "cell_type": "code",
   "execution_count": null,
   "metadata": {},
   "outputs": [],
   "source": [
    "fFile(nParPath=\"./hide/00-ObjectOrientedSoftwareDevolopment/11-MultidimensionalArrays/hdipOOWk11-Vigenere-source-code.zip\")"
   ]
  },
  {
   "cell_type": "markdown",
   "metadata": {},
   "source": [
    "###### 11.6 Solution to Exercise 1 - Vigenere Cipher Refactoring (5 mins) \n",
    "***"
   ]
  },
  {
   "cell_type": "code",
   "execution_count": null,
   "metadata": {},
   "outputs": [],
   "source": [
    "fFile(nParPath=\"./hide/00-ObjectOrientedSoftwareDevolopment/11-MultidimensionalArrays/Solution to Exercise 1 - Vigenère Cipher Refactoring - 2020-04-23 #83094851.mp4\")"
   ]
  },
  {
   "cell_type": "markdown",
   "metadata": {},
   "source": [
    "###### 11.7 Solution to Exercise 2 - Padding the Vigenere Cipher Key (9 mins) \n",
    "***"
   ]
  },
  {
   "cell_type": "code",
   "execution_count": null,
   "metadata": {},
   "outputs": [],
   "source": [
    "fFile(nParPath=\"./hide/00-ObjectOrientedSoftwareDevolopment/11-MultidimensionalArrays/Solution to Exercise 2 - Padding the Vigenère Cipher Key - 2020-04-23 #5e4e69a9.mp4\")"
   ]
  },
  {
   "cell_type": "markdown",
   "metadata": {},
   "source": [
    "###### Commented Source Code from 2D Array Workshop on May 13th\n",
    "***"
   ]
  },
  {
   "cell_type": "code",
   "execution_count": null,
   "metadata": {},
   "outputs": [],
   "source": [
    "fFile(nParPath=\"./hide/00-ObjectOrientedSoftwareDevolopment/11-MultidimensionalArrays/hDipSwOO2DArraysWorkshop.zip\")"
   ]
  },
  {
   "cell_type": "markdown",
   "metadata": {},
   "source": [
    "***\n",
    "## END"
   ]
  },
  {
   "cell_type": "markdown",
   "metadata": {},
   "source": [
    "< [Table of Contents](#top) | [References](#references) >\n",
    "<a id=\"exceptionHandling\"></a>\n",
    "***\n",
    "## Exception Handling\n",
    "***"
   ]
  },
  {
   "cell_type": "markdown",
   "metadata": {},
   "source": [
    "###### Topics\n",
    "***\n",
    "- Mechanics of exception handling – try/catch/finally. \n",
    "\n",
    "- Java exception hierarchy, checked and unchecked exceptions, throwing and re-throwing an exception.\n",
    "\n",
    "- Adding exception handling to the Vigenere Cipher application."
   ]
  },
  {
   "cell_type": "markdown",
   "metadata": {},
   "source": [
    "###### Exercises\n",
    "***\n",
    "- Change the class Vigenere and add a method called checkBounds() that takes a String s and throws an exception if s contains any characters that are not in the range [A...Z] or a space. The programme should validate that both the key and message text only contain characters in this range. Note that the space character is decimal 32 or hex 20. The latter can be assigned to a char as char c = 0x20 or char c = '\\u0020'."
   ]
  },
  {
   "cell_type": "markdown",
   "metadata": {},
   "source": [
    "###### 12.1 Exception Handling (26 mins) \n",
    "***"
   ]
  },
  {
   "cell_type": "code",
   "execution_count": null,
   "metadata": {},
   "outputs": [],
   "source": [
    "fFile(nParPath=\"./hide/00-ObjectOrientedSoftwareDevolopment/12-ExceptionHandling/hdipOOWk12-Exceptions - 05-04-2017.mp4\")"
   ]
  },
  {
   "cell_type": "markdown",
   "metadata": {},
   "source": [
    "###### 12.2 Adding Exception Handling to the Vigenère Cipher (22 mins) \n",
    "***"
   ]
  },
  {
   "cell_type": "code",
   "execution_count": null,
   "metadata": {},
   "outputs": [],
   "source": [
    "fFile(nParPath=\"./hide/00-ObjectOrientedSoftwareDevolopment/12-ExceptionHandling/Adding Exception Handling to the Vigenère Cipher - 2020-04-23 #d4b72c63.mp4\")"
   ]
  },
  {
   "cell_type": "markdown",
   "metadata": {},
   "source": [
    "###### 12.3 Exception Handling (Notes in PDF Format) File\n",
    "***"
   ]
  },
  {
   "cell_type": "code",
   "execution_count": null,
   "metadata": {},
   "outputs": [],
   "source": [
    "fFile(nParPath=\"./hide/00-ObjectOrientedSoftwareDevolopment/12-ExceptionHandling/hdipOOWk12-Exceptions.pdf\")"
   ]
  },
  {
   "cell_type": "markdown",
   "metadata": {},
   "source": [
    "###### 12.4 Adding Exception Handling to the Vigenère Cipher (Source Code) File\n",
    "***"
   ]
  },
  {
   "cell_type": "code",
   "execution_count": null,
   "metadata": {},
   "outputs": [],
   "source": [
    "fFile(nParPath=\"./hide/00-ObjectOrientedSoftwareDevolopment/12-ExceptionHandling/hdipOOWk12-Vigenere-source-code.zip\")"
   ]
  },
  {
   "cell_type": "markdown",
   "metadata": {},
   "source": [
    "###### 12.5 Solution to Exercise 1 - Adding More Validation to the Vigenère Cipher (7 mins)\n",
    "***"
   ]
  },
  {
   "cell_type": "code",
   "execution_count": null,
   "metadata": {},
   "outputs": [],
   "source": [
    "fFile(nParPath=\"./hide/00-ObjectOrientedSoftwareDevolopment/12-ExceptionHandling/Solution to Exercise 1 - Adding More Validation to the Vigenère Cipher - 2020-04-23 #b119b916.mp4\")"
   ]
  },
  {
   "cell_type": "markdown",
   "metadata": {},
   "source": [
    "***\n",
    "## END"
   ]
  },
  {
   "cell_type": "markdown",
   "metadata": {},
   "source": [
    "< [Table of Contents](#top) | [References](#references) >\n",
    "<a id=\"javaIO\"></a>\n",
    "***\n",
    "## Java I/O\n",
    "***"
   ]
  },
  {
   "cell_type": "markdown",
   "metadata": {},
   "source": [
    "###### Topics\n",
    "***\n",
    "- The Java I/O API, characters and bytes. Input and output streams. \n",
    "\n",
    "- Reading and writing bytes and characters, \n",
    "\n",
    "- Adding file handling to the Vigenere Cipher and Java serialization to the Student Manager applications."
   ]
  },
  {
   "cell_type": "markdown",
   "metadata": {},
   "source": [
    "###### Exercises\n",
    "***\n",
    "\n",
    "- Download the Zip archive of containing the StudentManager application from Week 9 and edit the class Menu to include options for saving the loading the database by serializing the class StudentManager. You should implement the save and load behaviour as static methods in a class called DatabaseUtils.\n",
    "\n",
    "- The Zip archive Student Data Files for Exercise 2 contains a suite of files that can be used to build a database of records. Each \".stuff\" file contains a set of rows delimited by a double angled bracket (>>) and each row maps to instance variables in the class Student. For example, the row G1>>Joseph>>Reagan>>342202137292>>Chemistry>>Offaly maps to a Student with an ID of G1, a first name of Joseph, a surname of Reagan, a data of birth of 342202137292 (a long fast-time for a Date object) and a course Chemistry. Add a static method called loadDatabase() to the class DatabaseUtils that can parse and build a database from a \".stuff\" file. \n",
    "\n",
    "- Change how the Student array in the class StudentManager is expanded from an increase of one to doubling the array size and examine the effect that this has on the running time of the loadDatabase() method."
   ]
  },
  {
   "cell_type": "markdown",
   "metadata": {},
   "source": [
    "###### 13.1 Java I/O Part 1 (27 mins) \n",
    "***"
   ]
  },
  {
   "cell_type": "code",
   "execution_count": null,
   "metadata": {},
   "outputs": [],
   "source": [
    "fFile(nParPath=\"./hide/00-ObjectOrientedSoftwareDevolopment/13-JavaIO/hdipOOWk13-IO-Part-1 - 26-04-2017.mp4\")"
   ]
  },
  {
   "cell_type": "markdown",
   "metadata": {},
   "source": [
    "###### 13.2 Java I/O Part 2 (22 mins) \n",
    "***"
   ]
  },
  {
   "cell_type": "code",
   "execution_count": null,
   "metadata": {},
   "outputs": [],
   "source": [
    "fFile(nParPath=\"./hide/00-ObjectOrientedSoftwareDevolopment/13-JavaIO/hdipOOWk13-IO-Part-2 - 26-04-2017.mp4\")"
   ]
  },
  {
   "cell_type": "markdown",
   "metadata": {},
   "source": [
    "###### 13.3 Adding File Handling to the Vigenère Cipher (16 mins) \n",
    "***"
   ]
  },
  {
   "cell_type": "code",
   "execution_count": null,
   "metadata": {},
   "outputs": [],
   "source": [
    "fFile(nParPath=\"./hide/00-ObjectOrientedSoftwareDevolopment/13-JavaIO/Adding File Handling to the Vigenère Cipher - 2020-04-24 #d0156abf.mp4\")"
   ]
  },
  {
   "cell_type": "markdown",
   "metadata": {},
   "source": [
    "###### 13.4 Using Serialization to Save a Vigenère Cipher Key (24 mins) \n",
    "***"
   ]
  },
  {
   "cell_type": "code",
   "execution_count": null,
   "metadata": {},
   "outputs": [],
   "source": [
    "fFile(nParPath=\"./hide/00-ObjectOrientedSoftwareDevolopment/13-JavaIO/Using Serialization to Save a Vigenère Cipher Key - 2020-04-24 #aa306dd0.mp4\")"
   ]
  },
  {
   "cell_type": "markdown",
   "metadata": {},
   "source": [
    "###### 13.5 Java I/O (Notes in PDF Format) File\n",
    "***"
   ]
  },
  {
   "cell_type": "code",
   "execution_count": null,
   "metadata": {},
   "outputs": [],
   "source": [
    "fFile(nParPath=\"./hide/00-ObjectOrientedSoftwareDevolopment/13-JavaIO/hdipOOWk13-IO.pdf\")"
   ]
  },
  {
   "cell_type": "markdown",
   "metadata": {},
   "source": [
    "###### 13.6 Adding File Handling to the Vigenère Cipher (Source Code)\n",
    "***"
   ]
  },
  {
   "cell_type": "code",
   "execution_count": null,
   "metadata": {},
   "outputs": [],
   "source": [
    "fFile(nParPath=\"./hide/00-ObjectOrientedSoftwareDevolopment/13-JavaIO/hdipOOWk13-Vigenere.zip\")"
   ]
  },
  {
   "cell_type": "markdown",
   "metadata": {},
   "source": [
    "###### 13.7 Elegy Written in a Country Churchyard File\n",
    "***"
   ]
  },
  {
   "cell_type": "markdown",
   "metadata": {},
   "source": [
    "```\n",
    "Elegy Written in a Country Churchyard\n",
    "BY THOMAS GRAY\n",
    "\n",
    "The curfew tolls the knell of parting day, \n",
    "The lowing herd wind slowly o'er the lea, \n",
    "The plowman homeward plods his weary way, \n",
    "And leaves the world to darkness and to me. \n",
    "\n",
    "Now fades the glimm'ring landscape on the sight, \n",
    "And all the air a solemn stillness holds, \n",
    "Save where the beetle wheels his droning flight, \n",
    "And drowsy tinklings lull the distant folds; \n",
    "\n",
    "Save that from yonder ivy-mantled tow'r \n",
    "The moping owl does to the moon complain \n",
    "Of such, as wand'ring near her secret bow'r, \n",
    "Molest her ancient solitary reign. \n",
    "\n",
    "Beneath those rugged elms, that yew-tree's shade, \n",
    "Where heaves the turf in many a mould'ring heap, \n",
    "Each in his narrow cell for ever laid, \n",
    "The rude forefathers of the hamlet sleep. \n",
    "\n",
    "The breezy call of incense-breathing Morn, \n",
    "The swallow twitt'ring from the straw-built shed, \n",
    "The cock's shrill clarion, or the echoing horn, \n",
    "No more shall rouse them from their lowly bed. \n",
    "\n",
    "For them no more the blazing hearth shall burn, \n",
    "Or busy housewife ply her evening care: \n",
    "No children run to lisp their sire's return, \n",
    "Or climb his knees the envied kiss to share. \n",
    "\n",
    "Oft did the harvest to their sickle yield, \n",
    "Their furrow oft the stubborn glebe has broke; \n",
    "How jocund did they drive their team afield! \n",
    "How bow'd the woods beneath their sturdy stroke! \n",
    "\n",
    "Let not Ambition mock their useful toil, \n",
    "Their homely joys, and destiny obscure; \n",
    "Nor Grandeur hear with a disdainful smile \n",
    "The short and simple annals of the poor. \n",
    "\n",
    "The boast of heraldry, the pomp of pow'r, \n",
    "And all that beauty, all that wealth e'er gave, \n",
    "Awaits alike th' inevitable hour. \n",
    "The paths of glory lead but to the grave. \n",
    "\n",
    "Nor you, ye proud, impute to these the fault, \n",
    "If Mem'ry o'er their tomb no trophies raise, \n",
    "Where thro' the long-drawn aisle and fretted vault \n",
    "The pealing anthem swells the note of praise. \n",
    "\n",
    "Can storied urn or animated bust \n",
    "Back to its mansion call the fleeting breath? \n",
    "Can Honour's voice provoke the silent dust, \n",
    "Or Flatt'ry soothe the dull cold ear of Death? \n",
    "\n",
    "Perhaps in this neglected spot is laid \n",
    "Some heart once pregnant with celestial fire; \n",
    "Hands, that the rod of empire might have sway'd, \n",
    "Or wak'd to ecstasy the living lyre. \n",
    "\n",
    "But Knowledge to their eyes her ample page \n",
    "Rich with the spoils of time did ne'er unroll; \n",
    "Chill Penury repress'd their noble rage, \n",
    "And froze the genial current of the soul. \n",
    "\n",
    "Full many a gem of purest ray serene, \n",
    "The dark unfathom'd caves of ocean bear: \n",
    "Full many a flow'r is born to blush unseen, \n",
    "And waste its sweetness on the desert air. \n",
    "\n",
    "Some village-Hampden, that with dauntless breast \n",
    "The little tyrant of his fields withstood; \n",
    "Some mute inglorious Milton here may rest, \n",
    "Some Cromwell guiltless of his country's blood. \n",
    "\n",
    "Th' applause of list'ning senates to command, \n",
    "The threats of pain and ruin to despise, \n",
    "To scatter plenty o'er a smiling land, \n",
    "And read their hist'ry in a nation's eyes, \n",
    "\n",
    "Their lot forbade: nor circumscrib'd alone \n",
    "Their growing virtues, but their crimes confin'd; \n",
    "Forbade to wade through slaughter to a throne, \n",
    "And shut the gates of mercy on mankind, \n",
    "\n",
    "The struggling pangs of conscious truth to hide, \n",
    "To quench the blushes of ingenuous shame, \n",
    "Or heap the shrine of Luxury and Pride \n",
    "With incense kindled at the Muse's flame. \n",
    "\n",
    "Far from the madding crowd's ignoble strife, \n",
    "Their sober wishes never learn'd to stray; \n",
    "Along the cool sequester'd vale of life \n",
    "They kept the noiseless tenor of their way. \n",
    "\n",
    "Yet ev'n these bones from insult to protect, \n",
    "Some frail memorial still erected nigh, \n",
    "With uncouth rhymes and shapeless sculpture deck'd, \n",
    "Implores the passing tribute of a sigh. \n",
    "\n",
    "Their name, their years, spelt by th' unletter'd muse, \n",
    "The place of fame and elegy supply: \n",
    "And many a holy text around she strews, \n",
    "That teach the rustic moralist to die. \n",
    "\n",
    "For who to dumb Forgetfulness a prey, \n",
    "This pleasing anxious being e'er resign'd, \n",
    "Left the warm precincts of the cheerful day, \n",
    "Nor cast one longing, ling'ring look behind? \n",
    "\n",
    "On some fond breast the parting soul relies, \n",
    "Some pious drops the closing eye requires; \n",
    "Ev'n from the tomb the voice of Nature cries, \n",
    "Ev'n in our ashes live their wonted fires. \n",
    "\n",
    "For thee, who mindful of th' unhonour'd Dead \n",
    "Dost in these lines their artless tale relate; \n",
    "If chance, by lonely contemplation led, \n",
    "Some kindred spirit shall inquire thy fate, \n",
    "\n",
    "Haply some hoary-headed swain may say, \n",
    "\"Oft have we seen him at the peep of dawn \n",
    "Brushing with hasty steps the dews away \n",
    "To meet the sun upon the upland lawn. \n",
    "\n",
    "\"There at the foot of yonder nodding beech \n",
    "That wreathes its old fantastic roots so high, \n",
    "His listless length at noontide would he stretch, \n",
    "And pore upon the brook that babbles by. \n",
    "\n",
    "\"Hard by yon wood, now smiling as in scorn, \n",
    "Mutt'ring his wayward fancies he would rove, \n",
    "Now drooping, woeful wan, like one forlorn, \n",
    "Or craz'd with care, or cross'd in hopeless love. \n",
    "\n",
    "\"One morn I miss'd him on the custom'd hill, \n",
    "Along the heath and near his fav'rite tree; \n",
    "Another came; nor yet beside the rill, \n",
    "Nor up the lawn, nor at the wood was he; \n",
    "\n",
    "\"The next with dirges due in sad array \n",
    "Slow thro' the church-way path we saw him borne. \n",
    "Approach and read (for thou canst read) the lay, \n",
    "Grav'd on the stone beneath yon aged thorn.\" \n",
    "\n",
    "THE EPITAPH \n",
    "Here rests his head upon the lap of Earth \n",
    "A youth to Fortune and to Fame unknown. \n",
    "Fair Science frown'd not on his humble birth, \n",
    "And Melancholy mark'd him for her own. \n",
    "\n",
    "Large was his bounty, and his soul sincere, \n",
    "Heav'n did a recompense as largely send: \n",
    "He gave to Mis'ry all he had, a tear, \n",
    "He gain'd from Heav'n ('twas all he wish'd) a friend. \n",
    "\n",
    "No farther seek his merits to disclose, \n",
    "Or draw his frailties from their dread abode, \n",
    "(There they alike in trembling hope repose) \n",
    "The bosom of his Father and his God.\n",
    "```"
   ]
  },
  {
   "cell_type": "markdown",
   "metadata": {},
   "source": [
    "###### 13.8 Student Data Files for Exercise 2\n",
    "***"
   ]
  },
  {
   "cell_type": "code",
   "execution_count": null,
   "metadata": {},
   "outputs": [],
   "source": [
    "fFile(nParPath=\"./hide/00-ObjectOrientedSoftwareDevolopment/13-JavaIO/student-data-files.zip\")"
   ]
  },
  {
   "cell_type": "markdown",
   "metadata": {},
   "source": [
    "###### 13.9 Solution to Exercise 1 - Serialize Student Database (20 mins) \n",
    "***"
   ]
  },
  {
   "cell_type": "code",
   "execution_count": null,
   "metadata": {},
   "outputs": [],
   "source": [
    "fFile(nParPath=\"./hide/00-ObjectOrientedSoftwareDevolopment/13-JavaIO/Solution to Exercise 1 - Serialize Student Database - 2020-04-24 #46b74b66.mp4\")"
   ]
  },
  {
   "cell_type": "markdown",
   "metadata": {},
   "source": [
    "###### 13.10 Solution to Exercise 2 - Parsing a Delimited File (17 mins) \n",
    "***"
   ]
  },
  {
   "cell_type": "code",
   "execution_count": null,
   "metadata": {},
   "outputs": [],
   "source": [
    "fFile(nParPath=\"./hide/00-ObjectOrientedSoftwareDevolopment/13-JavaIO/Solution to Exercise 2 - Parsing a Delimited File - 2020-04-24 #15a67cfc.mp4\")"
   ]
  },
  {
   "cell_type": "markdown",
   "metadata": {},
   "source": [
    "###### 13.11 Solution to Exercise 3 - Running Time of Array Expansion (9 mins) \n",
    "***"
   ]
  },
  {
   "cell_type": "code",
   "execution_count": null,
   "metadata": {},
   "outputs": [],
   "source": [
    "fFile(nParPath=\"./hide/00-ObjectOrientedSoftwareDevolopment/13-JavaIO/Solution to Exercise 3 - Running Time of Array Expansion - 2020-04-24 #f716284a.mp4\")"
   ]
  },
  {
   "cell_type": "markdown",
   "metadata": {},
   "source": [
    "###### Commented Source Code from Exceptions/IO Workshop on May 20th\n",
    "***"
   ]
  },
  {
   "cell_type": "code",
   "execution_count": null,
   "metadata": {},
   "outputs": [],
   "source": [
    "fFile(nParPath=\"./hide/00-ObjectOrientedSoftwareDevolopment/13-JavaIO/oosdWorkshopMay20-2020.zip\")"
   ]
  },
  {
   "cell_type": "markdown",
   "metadata": {},
   "source": [
    "***\n",
    "## END"
   ]
  },
  {
   "cell_type": "markdown",
   "metadata": {},
   "source": [
    "< [Table of Contents](#top) | [References](#references) >\n",
    "<a id=\"introduction-and-module-overview\"></a>\n",
    "***\n",
    "## Introduction and Module Overview\n",
    "***"
   ]
  },
  {
   "cell_type": "markdown",
   "metadata": {},
   "source": [
    "< [Table of Contents](#top) | [References](#references) >\n",
    "<a id=\"course-overview\"></a>\n",
    "***\n",
    "### Course Overview\n",
    "***"
   ]
  },
  {
   "cell_type": "markdown",
   "metadata": {},
   "source": [
    "The current version of the Java SDK is 14 and can be downloaded from https://jdk.java.net/14/. If you already have Java 8 or higher installed, then you have all you need for this module. However, Java 14 comes with features like modules (Java 9), a new switch statement (Java 12) and records (Java 14) with you might like to mess around with. The most recent release of Eclipse is Eclipse IDE 2020‑06, but Eclipse Oxygen or better is more than enough for this module. If you do install Java 14, then make sure to add the extension Java 14 Support for Eclipse from the Eclipse Marketplace.\n",
    "\n",
    "- Java 14: https://jdk.java.net/14/\n",
    "- Eclipse IDE: https://www.eclipse.org/downloads/\n",
    "\n",
    "\n",
    "Topics: \n",
    "\n",
    "- An overview of the Advanced Object Oriented Software Development module.\n",
    "- Modules content, breakdown of assessments and assignments components.\n",
    "- The object oriented paradigm.\n",
    "- Unified Modeling Language (UML).\n",
    "- Installing and configuring the Java SDK 1.8.\n",
    "- Installing and configuring the Eclipse IDE.\n",
    "- Creating and executing an Eclipse Java project."
   ]
  },
  {
   "cell_type": "code",
   "execution_count": null,
   "metadata": {},
   "outputs": [],
   "source": [
    "fFile(nParPath=\"./hide/01-AdvancedObjectOrientedSoftwareDevolopment/01-introduction-and-module-overview/hdipADOOWk1-Overview_-_17-09-2018.mp4\")"
   ]
  },
  {
   "cell_type": "code",
   "execution_count": null,
   "metadata": {},
   "outputs": [],
   "source": [
    "fFile(nParPath=\"./hide/01-AdvancedObjectOrientedSoftwareDevolopment/01-introduction-and-module-overview/hdipADOOWk1-Overview.pdf\")"
   ]
  },
  {
   "cell_type": "markdown",
   "metadata": {},
   "source": [
    "< [Table of Contents](#top) | [References](#references) >\n",
    "<a id=\"object-oriented-paradigm\"></a>\n",
    "***\n",
    "### Object-Oriented Paradigm\n",
    "***"
   ]
  },
  {
   "cell_type": "markdown",
   "metadata": {},
   "source": [
    "Please note that there is a typo on slide 10 (24 mins). The method signature public void study study() should be public void study(). Perhaps someone is telling us that we need to study twice as much! "
   ]
  },
  {
   "cell_type": "code",
   "execution_count": null,
   "metadata": {},
   "outputs": [],
   "source": [
    "fFile(nParPath=\"./hide/01-AdvancedObjectOrientedSoftwareDevolopment/01-introduction-and-module-overview/hdipADOOWk1-Paradigm - 18-09-2017.mp4\")"
   ]
  },
  {
   "cell_type": "code",
   "execution_count": null,
   "metadata": {},
   "outputs": [],
   "source": [
    "fFile(nParPath=\"./hide/01-AdvancedObjectOrientedSoftwareDevolopment/01-introduction-and-module-overview/hdipADOOWk1-Paradigm.pdf\")"
   ]
  },
  {
   "cell_type": "markdown",
   "metadata": {},
   "source": [
    "< [Table of Contents](#top) | [References](#references) >\n",
    "<a id=\"installling-java-windows\"></a>\n",
    "***\n",
    "### Installing the Java 1.8 SDK and Eclipse Oxygen on Windows 7 64 bit\n",
    "***"
   ]
  },
  {
   "cell_type": "code",
   "execution_count": null,
   "metadata": {},
   "outputs": [],
   "source": [
    "fFile(nParPath=\"./hide/01-AdvancedObjectOrientedSoftwareDevolopment/01-introduction-and-module-overview/hdipADOOWk1-Install-Java-Eclipse - 15-09-2017.mp4\")"
   ]
  },
  {
   "cell_type": "markdown",
   "metadata": {},
   "source": [
    "< [Table of Contents](#top) | [References](#references) >\n",
    "<a id=\"installing-java-mac\"></a>\n",
    "***\n",
    "### Installing the Java 1.8 SDK and Eclipse Oxygen on a Mac / OSX\n",
    "***"
   ]
  },
  {
   "cell_type": "code",
   "execution_count": null,
   "metadata": {},
   "outputs": [],
   "source": [
    "fFile(nParPath=\"./hide/01-AdvancedObjectOrientedSoftwareDevolopment/01-introduction-and-module-overview/hdipADOOWk1-Install-Java-Eclipse-OSX_-_18-09-2017.mp4\")"
   ]
  },
  {
   "cell_type": "code",
   "execution_count": null,
   "metadata": {},
   "outputs": [],
   "source": [
    "fFile(nParPath=\"./hide/01-AdvancedObjectOrientedSoftwareDevolopment/01-introduction-and-module-overview/hdipADOOWk1-Overview.pdf\")"
   ]
  },
  {
   "cell_type": "code",
   "execution_count": null,
   "metadata": {},
   "outputs": [],
   "source": [
    "fFile(nParPath=\"./hide/01-AdvancedObjectOrientedSoftwareDevolopment/01-introduction-and-module-overview/hdipADOOWk1-Paradigm.pdf\")"
   ]
  },
  {
   "cell_type": "markdown",
   "metadata": {},
   "source": [
    "***\n",
    "## END"
   ]
  },
  {
   "cell_type": "markdown",
   "metadata": {},
   "source": [
    "< [Table of Contents](#top) | [References](#references) >\n",
    "<a id=\"abstraction\"></a>\n",
    "***\n",
    "## Abstraction\n",
    "***"
   ]
  },
  {
   "cell_type": "markdown",
   "metadata": {},
   "source": [
    "Topics: \n",
    "\n",
    "- Class abstraction & loose coupling.\n",
    "- Defining abstractions with interfaces.\n",
    "- Defining classes and interfaces in UML.\n",
    "- Abstraction and the Java Collections Framework.\n",
    "- Generic types.\n",
    "- Designing a tree abstraction in Java.\n",
    "- Designing a shopping trolley abstraction in Java.\n",
    "\n",
    "\n",
    "Exercises and Reading Material\n",
    "\n",
    "- Abstract a Shopping Trolley and Tree in Java as shown in Sections 2.2 and 2.3 using the Eclipse IDE.\n",
    "- Read the JavaDocs for the interface [java.util.Collection](https://docs.oracle.com/javase/7/docs/api/index.html?java/util/Collection.html) and examine each of the method signatures described in the section method summary.    "
   ]
  },
  {
   "cell_type": "markdown",
   "metadata": {},
   "source": [
    "< [Table of Contents](#top) | [References](#references) >\n",
    "<a id=\"abstraction-definitions-and-key-concepts\"></a>\n",
    "***\n",
    "### Abstraction - Definitions and Key Concepts\n",
    "***"
   ]
  },
  {
   "cell_type": "code",
   "execution_count": null,
   "metadata": {},
   "outputs": [],
   "source": [
    "fFile(nParPath=\"./hide/01-AdvancedObjectOrientedSoftwareDevolopment/02-abstraction/hdipADOOWk2-Abstraction - 20-09-2017.mp4\")"
   ]
  },
  {
   "cell_type": "markdown",
   "metadata": {},
   "source": [
    "< [Table of Contents](#top) | [References](#references) >\n",
    "<a id=\"abstracting-a-shopping-trolley\"></a>\n",
    "***\n",
    "### Abstracting a Shopping Trolley\n",
    "***"
   ]
  },
  {
   "cell_type": "code",
   "execution_count": null,
   "metadata": {},
   "outputs": [],
   "source": [
    "fFile(nParPath=\"./hide/01-AdvancedObjectOrientedSoftwareDevolopment/02-abstraction/hdipADOOWk2-ShoppingTrolley - 21-09-2017.mp4\")"
   ]
  },
  {
   "cell_type": "markdown",
   "metadata": {},
   "source": [
    "< [Table of Contents](#top) | [References](#references) >\n",
    "<a id=\"abstracting-a-tree\"></a>\n",
    "***\n",
    "### Abstracting a Tree\n",
    "***"
   ]
  },
  {
   "cell_type": "code",
   "execution_count": null,
   "metadata": {},
   "outputs": [],
   "source": [
    "fFile(nParPath=\"./hide/01-AdvancedObjectOrientedSoftwareDevolopment/02-abstraction/hdipADOOWk2-Tree_-_23-09-2017.mp4\")"
   ]
  },
  {
   "cell_type": "markdown",
   "metadata": {},
   "source": [
    "< [Table of Contents](#top) | [References](#references) >\n",
    "<a id=\"the-java-collections-framework-key-abstractions\"></a>\n",
    "***\n",
    "### The Java Collections Framework - Key Abstractions\n",
    "***"
   ]
  },
  {
   "cell_type": "code",
   "execution_count": null,
   "metadata": {},
   "outputs": [],
   "source": [
    "fFile(nParPath=\"./hide/01-AdvancedObjectOrientedSoftwareDevolopment/02-abstraction/hdipADOOWk2-JCF - 21-09-2017.mp4\")"
   ]
  },
  {
   "cell_type": "code",
   "execution_count": null,
   "metadata": {},
   "outputs": [],
   "source": [
    "fFile(nParPath=\"./hide/01-AdvancedObjectOrientedSoftwareDevolopment/02-abstraction/hdipADOOWk2-Abstraction.pdf\")"
   ]
  },
  {
   "cell_type": "markdown",
   "metadata": {},
   "source": [
    "***\n",
    "## END"
   ]
  },
  {
   "cell_type": "markdown",
   "metadata": {},
   "source": [
    "< [Table of Contents](#top) | [References](#references) >\n",
    "<a id=\"encapsulation-and-big-O-notation\"></a>\n",
    "***\n",
    "## Encapsulation and Big-O Notation\n",
    "***"
   ]
  },
  {
   "cell_type": "markdown",
   "metadata": {},
   "source": [
    "Topics: \n",
    "\n",
    "- Encapsulation: definitions and key concepts.\n",
    "- Space and time complexity, Big-O notation.\n",
    "- Using Lists: ArrayList / Linked APIs and underlying implementations.\n",
    "\n",
    "Exercises\n",
    "\n",
    "- Create a new project in Eclipse called Lists and add a package ie.gmit.dip. Create a class called ListRunner and create, compile and run the ListRunner example at 11:27 mins and the updated ListRunner example at 16:00 mins.\n",
    "- Create a new class called ListIteratorExample in the same package to create, compile and run the three different ways of iterating over a collection described from 35:22 mins to the end of the video; namely iterators, indices and a for-in loop."
   ]
  },
  {
   "cell_type": "markdown",
   "metadata": {},
   "source": [
    "< [Table of Contents](#top) | [References](#references) >\n",
    "<a id=\"encapsulation-definitions-and-key-concepts\"></a>\n",
    "***\n",
    "### Encapsulation - Definitions and Key Concepts\n",
    "***"
   ]
  },
  {
   "cell_type": "code",
   "execution_count": null,
   "metadata": {},
   "outputs": [],
   "source": [
    "fFile(nParPath=\"./hide/01-AdvancedObjectOrientedSoftwareDevolopment/03-encapsulation-and-big-O-notation/hdipADOOWk3-Encapsulation - 27-09-2017.mp4\")"
   ]
  },
  {
   "cell_type": "code",
   "execution_count": null,
   "metadata": {},
   "outputs": [],
   "source": [
    "fFile(nParPath=\"./hide/01-AdvancedObjectOrientedSoftwareDevolopment/03-encapsulation-and-big-O-notation/hdipADOOWk3-Encapsulation.pdf\")"
   ]
  },
  {
   "cell_type": "markdown",
   "metadata": {},
   "source": [
    "< [Table of Contents](#top) | [References](#references) >\n",
    "<a id=\"big-O-notation-space-time-complexity\"></a>\n",
    "***\n",
    "### Big-O Notation - Space & Time Complexity\n",
    "***"
   ]
  },
  {
   "cell_type": "code",
   "execution_count": null,
   "metadata": {},
   "outputs": [],
   "source": [
    "fFile(nParPath=\"./hide/01-AdvancedObjectOrientedSoftwareDevolopment/03-encapsulation-and-big-O-notation/hdipADOOWk3-BigONotation - 03-10-2017.mp4\")"
   ]
  },
  {
   "cell_type": "code",
   "execution_count": null,
   "metadata": {},
   "outputs": [],
   "source": [
    "fFile(nParPath=\"./hide/01-AdvancedObjectOrientedSoftwareDevolopment/03-encapsulation-and-big-O-notation/hdipADOOWk3-BigO.pdf\")"
   ]
  },
  {
   "cell_type": "markdown",
   "metadata": {},
   "source": [
    "< [Table of Contents](#top) | [References](#references) >\n",
    "<a id=\"lists-creating-and-using-arrayList-and-linkedList\"></a>\n",
    "***\n",
    "### Lists - Creating and Using ArrayList and LinkedList\n",
    "***"
   ]
  },
  {
   "cell_type": "code",
   "execution_count": null,
   "metadata": {},
   "outputs": [],
   "source": [
    "fFile(nParPath=\"./hide/01-AdvancedObjectOrientedSoftwareDevolopment/03-encapsulation-and-big-O-notation/hdipADOOWk3-Lists - 03-10-2017.mp4\")"
   ]
  },
  {
   "cell_type": "code",
   "execution_count": null,
   "metadata": {},
   "outputs": [],
   "source": [
    "fFile(nParPath=\"./hide/01-AdvancedObjectOrientedSoftwareDevolopment/03-encapsulation-and-big-O-notation/hdipADOOWk3-Lists.pdf\")"
   ]
  },
  {
   "cell_type": "markdown",
   "metadata": {},
   "source": [
    "< [Table of Contents](#top) | [References](#references) >\n",
    "<a id=\"storingdictionarywordswithalist\"></a>\n",
    "***\n",
    "### Storing Dictionary Words with a List\n",
    "***"
   ]
  },
  {
   "cell_type": "code",
   "execution_count": null,
   "metadata": {},
   "outputs": [],
   "source": [
    "fFile(nParPath=\"./hide/01-AdvancedObjectOrientedSoftwareDevolopment/03-encapsulation-and-big-O-notation/hdipADOOWk3-ParsingADictionaryIntoAList - 03-10-2017.mp4\")"
   ]
  },
  {
   "cell_type": "code",
   "execution_count": null,
   "metadata": {},
   "outputs": [],
   "source": [
    "fFile(nParPath=\"./hide/01-AdvancedObjectOrientedSoftwareDevolopment/03-encapsulation-and-big-O-notation/dictionary.zip\")"
   ]
  },
  {
   "cell_type": "markdown",
   "metadata": {},
   "source": [
    "***\n",
    "## END"
   ]
  },
  {
   "cell_type": "markdown",
   "metadata": {},
   "source": [
    "< [Table of Contents](#top) | [References](#references) >\n",
    "<a id=\"delegation-composition\"></a>\n",
    "***\n",
    "## Delegation & Composition\n",
    "***"
   ]
  },
  {
   "cell_type": "markdown",
   "metadata": {},
   "source": [
    "Topics: \n",
    "\n",
    "- Delegation, composition and object re-use.\n",
    "- The HAS-A Rule.\n",
    "- Dependencies, associations, aggregations and composition.\n",
    "- UML notation for composition.\n",
    "- Implementing the shopping trolley abstraction in Java.\n",
    "- Implementing the tree abstraction in Java.\n",
    "\n",
    "Exercises\n",
    "\n",
    "Read the document below under 4.4 Summary of Object Composition (PDF Document). Draw out a UML class diagram showing the relationships between the classes used in the Trolley (4.2) and the Tree (4.3) implementations. I will upload the correct UML class diagrams next week.\n",
    "\n",
    "Workshop this Week!\n",
    "There will be an online workshop on Wednesday 14th October from 6:30 - 8:00pm. The session will be automatically recorded and saved to MS Stream. You should already have received an email invitation from Microsoft Teams, as all students enrolled on this module are members of the distribution list. You can access MS Teams directly from your college Office 365 dashboard as depicted in this image. If you are using a Mac, you may have to download and install the desktop version. "
   ]
  },
  {
   "cell_type": "markdown",
   "metadata": {},
   "source": [
    "< [Table of Contents](#top) | [References](#references) >\n",
    "<a id=\"delegation-and-composition\"></a>\n",
    "***\n",
    "### Delegation and Composition\n",
    "***"
   ]
  },
  {
   "cell_type": "code",
   "execution_count": null,
   "metadata": {},
   "outputs": [],
   "source": [
    "fFile(nParPath=\"./hide/01-AdvancedObjectOrientedSoftwareDevolopment/04-delegation-composition/hdipADOOWk4-DelegationAndComposition - 09-10-2017.mp4\")"
   ]
  },
  {
   "cell_type": "markdown",
   "metadata": {},
   "source": [
    "< [Table of Contents](#top) | [References](#references) >\n",
    "<a id=\"using-composition-to-implement-a-shopping-trolley\"></a>\n",
    "***\n",
    "### Using Composition to Implement a Shopping Trolley\n",
    "***"
   ]
  },
  {
   "cell_type": "code",
   "execution_count": null,
   "metadata": {},
   "outputs": [],
   "source": [
    "fFile(nParPath=\"./hide/01-AdvancedObjectOrientedSoftwareDevolopment/04-delegation-composition/hdipADOOWk4-TrolleyImplementation - 09-10-2017.mp4\")"
   ]
  },
  {
   "cell_type": "markdown",
   "metadata": {},
   "source": [
    "< [Table of Contents](#top) | [References](#references) >\n",
    "<a id=\"using-CompositiontoImplementaTreeStructure\"></a>\n",
    "***\n",
    "### Using Composition to Implement a Tree Structure\n",
    "***"
   ]
  },
  {
   "cell_type": "code",
   "execution_count": null,
   "metadata": {},
   "outputs": [],
   "source": [
    "fFile(nParPath=\"./hide/01-AdvancedObjectOrientedSoftwareDevolopment/04-delegation-composition/hdipADOOWk4-TreeImplementation - 09-10-2017.mp4\")"
   ]
  },
  {
   "cell_type": "code",
   "execution_count": null,
   "metadata": {},
   "outputs": [],
   "source": [
    "fFile(nParPath=\"./hide/01-AdvancedObjectOrientedSoftwareDevolopment/04-delegation-composition/oopComposition.pdf\")"
   ]
  },
  {
   "cell_type": "code",
   "execution_count": null,
   "metadata": {},
   "outputs": [],
   "source": [
    "fFile(nParPath=\"./hide/01-AdvancedObjectOrientedSoftwareDevolopment/04-delegation-composition/hdipADOOWk4-DelegationAndComposition.pdf\")"
   ]
  },
  {
   "cell_type": "code",
   "execution_count": null,
   "metadata": {},
   "outputs": [],
   "source": [
    "fFile(nParPath=\"./hide/01-AdvancedObjectOrientedSoftwareDevolopment/04-delegation-composition/hdipADOOCompositionSummary.pdf\")"
   ]
  },
  {
   "cell_type": "markdown",
   "metadata": {},
   "source": [
    "###### Meeting\n",
    "***"
   ]
  },
  {
   "cell_type": "code",
   "execution_count": null,
   "metadata": {},
   "outputs": [],
   "source": [
    "fFile(nParPath=\"./hide/01-AdvancedObjectOrientedSoftwareDevolopment/04-delegation-composition/Meeting in General - 2020-10-14 #019d5f8c.mp4\")"
   ]
  },
  {
   "cell_type": "markdown",
   "metadata": {},
   "source": [
    "***\n",
    "## END"
   ]
  },
  {
   "cell_type": "markdown",
   "metadata": {},
   "source": [
    "< [Table of Contents](#top) | [References](#references) >\n",
    "<a id=\"ObjectEqualityandComparability\"></a>\n",
    "***\n",
    "## Object Equality and Comparability\n",
    "***"
   ]
  },
  {
   "cell_type": "markdown",
   "metadata": {},
   "source": [
    "Topics: \n",
    "\n",
    "* Defining Object Equality.\n",
    "* Overriding equals() and hashCode()\n",
    "* Comparing Objects\n",
    "* Comparable and Comparator\n",
    "\n",
    "Reading Material\n",
    "\n",
    "Read the JavaDocs for the [Comparable](https://docs.oracle.com/javase/7/docs/api/java/lang/Comparable.html) and [Comparator](https://docs.oracle.com/javase/7/docs/api/java/util/Comparator.html) interfaces and for the [Collections](https://docs.oracle.com/javase/7/docs/api/java/util/Collections.html) utility class."
   ]
  },
  {
   "cell_type": "markdown",
   "metadata": {},
   "source": [
    "< [Table of Contents](#top) | [References](#references) >\n",
    "<a id=\"ObjectEqualityandComparability\"></a>\n",
    "***\n",
    "### Object Equality and Comparability\n",
    "***"
   ]
  },
  {
   "cell_type": "code",
   "execution_count": null,
   "metadata": {},
   "outputs": [],
   "source": [
    "fFile(nParPath=\"./hide/01-AdvancedObjectOrientedSoftwareDevolopment/05-object-equality-and-comparability/hdipADOOWk5-EqualityComparability - 12-10-2017.mp4\")"
   ]
  },
  {
   "cell_type": "markdown",
   "metadata": {},
   "source": [
    "< [Table of Contents](#top) | [References](#references) >\n",
    "<a id=\"ImplementingEqualityandComparabilityinaShoppingTrolley\"></a>\n",
    "***\n",
    "### Implementing Equality and Comparability in a Shopping Trolley\n",
    "***"
   ]
  },
  {
   "cell_type": "code",
   "execution_count": null,
   "metadata": {},
   "outputs": [],
   "source": [
    "fFile(nParPath=\"./hide/01-AdvancedObjectOrientedSoftwareDevolopment/05-object-equality-and-comparability/hdipADOOWk5-TrolleyImplementationEquality - 12-10-2017.mp4\")"
   ]
  },
  {
   "cell_type": "markdown",
   "metadata": {},
   "source": [
    "< [Table of Contents](#top) | [References](#references) >\n",
    "<a id=\"ImplementingEqualityinaTree\"></a>\n",
    "***\n",
    "### Implementing Equality in a Tree\n",
    "***"
   ]
  },
  {
   "cell_type": "code",
   "execution_count": null,
   "metadata": {},
   "outputs": [],
   "source": [
    "fFile(nParPath=\"./hide/01-AdvancedObjectOrientedSoftwareDevolopment/05-object-equality-and-comparability/hdipADOOWk5-TreeImplementationEquality - 12-10-2017.mp4\")"
   ]
  },
  {
   "cell_type": "code",
   "execution_count": null,
   "metadata": {},
   "outputs": [],
   "source": [
    "fFile(nParPath=\"./hide/01-AdvancedObjectOrientedSoftwareDevolopment/05-object-equality-and-comparability/hdipADOOWk5-EqualityComparability.pdf\")"
   ]
  },
  {
   "cell_type": "code",
   "execution_count": null,
   "metadata": {},
   "outputs": [],
   "source": [
    "fFile(nParPath=\"./hide/01-AdvancedObjectOrientedSoftwareDevolopment/05-object-equality-and-comparability/hdipADOOWk5-Trolley-Source.zip\")"
   ]
  },
  {
   "cell_type": "code",
   "execution_count": null,
   "metadata": {},
   "outputs": [],
   "source": [
    "fFile(nParPath=\"./hide/01-AdvancedObjectOrientedSoftwareDevolopment/05-object-equality-and-comparability/hdipADOOWk5-Tree-Source.zip\")"
   ]
  },
  {
   "cell_type": "markdown",
   "metadata": {},
   "source": [
    "###### Meeting\n",
    "***"
   ]
  },
  {
   "cell_type": "code",
   "execution_count": null,
   "metadata": {},
   "outputs": [],
   "source": [
    "fFile(nParPath=\"./hide/01-AdvancedObjectOrientedSoftwareDevolopment/05-object-equality-and-comparability/Meeting in General - 2020-10-21 #c468bf0f.mp4\")"
   ]
  },
  {
   "cell_type": "markdown",
   "metadata": {},
   "source": [
    "***\n",
    "## END"
   ]
  },
  {
   "cell_type": "markdown",
   "metadata": {},
   "source": [
    "< [Table of Contents](#top) | [References](#references) >\n",
    "<a id=\"RevisionWeek1\"></a>\n",
    "***\n",
    "## Revision Week 1\n",
    "***"
   ]
  },
  {
   "cell_type": "markdown",
   "metadata": {},
   "source": [
    "* Only the topics covered in weeks 1 - 4 will be examined in the assessment next week. Specifically, you will have two hours to answer three questions worth 40 marks each, i.e. 120 marks = 100%. Please note that the questions will be consistent with the following format:\n",
    "\n",
    "* Abstraction and Encapsulation (40 Marks). You will be shown a picture of an entity and be asked to abstract it into a set of interfaces and abstractions using code snippets, i.e. do not write full classes. Just show the important aspects and use comments to indicate repetitive or obvious elements of each type.\n",
    "* Collections and Lists (40 Marks). You should familiarise yourself with the Collection and List interfaces and the Big-O running times of their operations. \n",
    "* Delegation and Composition (40 Marks). You will be presented with a Java class and asked to categorise the features of the programme into its correct form of composition using MCQs.\n",
    "\n",
    "\n",
    "Workshop this Week!\n",
    "There will be an online workshop on Wednesday 28th October from 6:30 - 8:00pm. The session will be automatically recorded and saved to MS Stream. You should already have received an email invitation from Microsoft Teams, as all students enrolled on this module are members of the distribution list. You can access MS Teams directly from your college Office 365 dashboard as depicted in this image. If you are using a Mac, you may have to download and install the desktop version.   "
   ]
  },
  {
   "cell_type": "markdown",
   "metadata": {},
   "source": [
    "###### Meeting\n",
    "***"
   ]
  },
  {
   "cell_type": "code",
   "execution_count": null,
   "metadata": {},
   "outputs": [],
   "source": [
    "fFile(nParPath=\"./hide/01-AdvancedObjectOrientedSoftwareDevolopment/06-revision-week/hdipADOOSampleAssessment1Questions.pdf\")"
   ]
  },
  {
   "cell_type": "code",
   "execution_count": null,
   "metadata": {},
   "outputs": [],
   "source": [
    "fFile(nParPath=\"./hide/01-AdvancedObjectOrientedSoftwareDevolopment/06-revision-week/Recording of Workshop 3 (28-October-2020) - 2020-10-28 #f6bb898b.mp4\")"
   ]
  },
  {
   "cell_type": "code",
   "execution_count": null,
   "metadata": {},
   "outputs": [],
   "source": [
    "fFile(nParPath=\"./hide/01-AdvancedObjectOrientedSoftwareDevolopment/06-revision-week/Recording of H.Dip AOOSD Workshop 4 (5-November-2020) - 2020-11-04 #d1557b9e.mp4\")"
   ]
  },
  {
   "cell_type": "markdown",
   "metadata": {},
   "source": [
    "***\n",
    "## END"
   ]
  },
  {
   "cell_type": "markdown",
   "metadata": {},
   "source": [
    "< [Table of Contents](#top) | [References](#references) >\n",
    "<a id=\"SetsandMaps\"></a>\n",
    "***\n",
    "## Sets and Maps\n",
    "***"
   ]
  },
  {
   "cell_type": "markdown",
   "metadata": {},
   "source": [
    "Topics: \n",
    "\n",
    "* Sets and the Set API\n",
    "* TreeSet and HashSet\n",
    "* The Map API. HashMap and TreeMap.\n",
    "\n",
    "Reading Material\n",
    "\n",
    "Read the JavaDocs for the interfaces [java.util.Set](https://docs.oracle.com/javase/7/docs/api/java/util/Set.html) and [java.util.Map](https://docs.oracle.com/javase/7/docs/api/java/util/Map.html) and examine each of the method signatures described in the section Method Summary. You should also read the API documentation for the concrete implementation classes of java.util.Set: [TreeSet](https://docs.oracle.com/javase/7/docs/api/java/util/TreeSet.html) and [HashSet](https://docs.oracle.com/javase/7/docs/api/java/util/HashSet.html). Finally, read the JavaDocs for the two main Map<K, V> implementations: [HashMap](https://docs.oracle.com/javase/7/docs/api/java/util/HashMap.html) and [TreeMap](https://docs.oracle.com/javase/7/docs/api/java/util/TreeMap.html).\n",
    "\n",
    "Exercises\n",
    "\n",
    "Review and attempt the six exercises in Section 8.6 (Revision Exercises for Sets and Maps). I will work through the solutions with you in a online workshop next week (November 18th)."
   ]
  },
  {
   "cell_type": "markdown",
   "metadata": {},
   "source": [
    "< [Table of Contents](#top) | [References](#references) >\n",
    "<a id=\"Sets\"></a>\n",
    "***\n",
    "### Sets\n",
    "***"
   ]
  },
  {
   "cell_type": "code",
   "execution_count": null,
   "metadata": {},
   "outputs": [],
   "source": [
    "fFile(nParPath=\"./hide/01-AdvancedObjectOrientedSoftwareDevolopment/07-sets-and-maps/hdipADOOWk8-Sets - 07-11-2017.mp4\")"
   ]
  },
  {
   "cell_type": "markdown",
   "metadata": {},
   "source": [
    "< [Table of Contents](#top) | [References](#references) >\n",
    "<a id=\"Maps\"></a>\n",
    "***\n",
    "### Maps\n",
    "***"
   ]
  },
  {
   "cell_type": "code",
   "execution_count": null,
   "metadata": {},
   "outputs": [],
   "source": [
    "fFile(nParPath=\"./hide/01-AdvancedObjectOrientedSoftwareDevolopment/07-sets-and-maps/hdipADOOWk8-Maps - 07-11-2017.mp4\")"
   ]
  },
  {
   "cell_type": "markdown",
   "metadata": {},
   "source": [
    "< [Table of Contents](#top) | [References](#references) >\n",
    "<a id=\"UsingSetsandMapsinJava\"></a>\n",
    "***\n",
    "### Using Sets and Maps in Java\n",
    "***"
   ]
  },
  {
   "cell_type": "code",
   "execution_count": null,
   "metadata": {},
   "outputs": [],
   "source": [
    "fFile(nParPath=\"./hide/01-AdvancedObjectOrientedSoftwareDevolopment/07-sets-and-maps/hdipADOOWk8-Eclipse-Elegy - 07-11-2017.mp4\")"
   ]
  },
  {
   "cell_type": "code",
   "execution_count": null,
   "metadata": {},
   "outputs": [],
   "source": [
    "fFile(nParPath=\"./hide/01-AdvancedObjectOrientedSoftwareDevolopment/07-sets-and-maps/hdipADOOWk8-Eclipse-Elegy.zip\")"
   ]
  },
  {
   "cell_type": "code",
   "execution_count": null,
   "metadata": {},
   "outputs": [],
   "source": [
    "fFile(nParPath=\"./hide/01-AdvancedObjectOrientedSoftwareDevolopment/07-sets-and-maps/hdipADOOWk8-SetsAndMaps.pdf\")"
   ]
  },
  {
   "cell_type": "code",
   "execution_count": null,
   "metadata": {},
   "outputs": [],
   "source": [
    "fFile(nParPath=\"./hide/01-AdvancedObjectOrientedSoftwareDevolopment/07-sets-and-maps/hdipADOOWk8-Exercises.pdf\")"
   ]
  },
  {
   "cell_type": "markdown",
   "metadata": {},
   "source": [
    "***\n",
    "## END"
   ]
  },
  {
   "cell_type": "markdown",
   "metadata": {},
   "source": [
    "< [Table of Contents](#top) | [References](#references) >\n",
    "<a id=\"InheritanceandPolymorphism\"></a>\n",
    "***\n",
    "## Inheritance and Polymorphism\n",
    "***"
   ]
  },
  {
   "cell_type": "markdown",
   "metadata": {},
   "source": [
    "Topics: \n",
    "\n",
    "* Inheritance and Reuse\n",
    "* Specialisation Inheritance\n",
    "* The IS-A Rule and the Principle of Substitutability\n",
    "* Single v/s Multiple Inheritance\n",
    "* Inheritance and java.lang.Object\n",
    "* Method overriding and Abstract Classes.\n",
    "* Specification inheritance\n",
    "* Default and static interface methods\n",
    "\n",
    "Exercises\n",
    "\n",
    "* Week 9: Review and attempt the exercises in Section 9.5 (Revision Exercises for Specialisation Inheritance). I will work through the solutions with you in a online workshop on Wednesday 25th November.\n",
    "* Week 10: Review and attempt the exercises in Section 10.7 (Revision Exercises for Specification Inheritance)."
   ]
  },
  {
   "cell_type": "markdown",
   "metadata": {},
   "source": [
    "< [Table of Contents](#top) | [References](#references) >\n",
    "<a id=\"SpecialisationInheritance\"></a>\n",
    "***\n",
    "### Specialisation Inheritance\n",
    "***"
   ]
  },
  {
   "cell_type": "code",
   "execution_count": null,
   "metadata": {},
   "outputs": [],
   "source": [
    "fFile(nParPath=\"./hide/01-AdvancedObjectOrientedSoftwareDevolopment/08-inheritance-and-polymorphism/hdipADOOWk9-SpecialisationInheritance - 14-11-2017.mp4\")"
   ]
  },
  {
   "cell_type": "markdown",
   "metadata": {},
   "source": [
    "< [Table of Contents](#top) | [References](#references) >\n",
    "<a id=\"ImplementingSpecialisationInheritance\"></a>\n",
    "***\n",
    "### Implementing Specialisation Inheritance\n",
    "***"
   ]
  },
  {
   "cell_type": "code",
   "execution_count": null,
   "metadata": {},
   "outputs": [],
   "source": [
    "fFile(nParPath=\"./hide/01-AdvancedObjectOrientedSoftwareDevolopment/08-inheritance-and-polymorphism/hdipADOOWk9-SpecialisationInheritance-Eclipse - 14-11-2017.mp4\")"
   ]
  },
  {
   "cell_type": "code",
   "execution_count": null,
   "metadata": {},
   "outputs": [],
   "source": [
    "fFile(nParPath=\"./hide/01-AdvancedObjectOrientedSoftwareDevolopment/08-inheritance-and-polymorphism/hdipADOOWk9-JavaSourceCode.zip\")"
   ]
  },
  {
   "cell_type": "code",
   "execution_count": null,
   "metadata": {},
   "outputs": [],
   "source": [
    "fFile(nParPath=\"./hide/01-AdvancedObjectOrientedSoftwareDevolopment/08-inheritance-and-polymorphism/hdipADOOWk9-SpecialisationInheritance.pdf\")"
   ]
  },
  {
   "cell_type": "code",
   "execution_count": null,
   "metadata": {},
   "outputs": [],
   "source": [
    "fFile(nParPath=\"./hide/01-AdvancedObjectOrientedSoftwareDevolopment/08-inheritance-and-polymorphism/hdipADOOWk9-Exercises.pdf\")"
   ]
  },
  {
   "cell_type": "markdown",
   "metadata": {},
   "source": [
    "< [Table of Contents](#top) | [References](#references) >\n",
    "<a id=\"MethodOverridingandAbstractClasses\"></a>\n",
    "***\n",
    "### Method Overriding and Abstract Classes\n",
    "***"
   ]
  },
  {
   "cell_type": "code",
   "execution_count": null,
   "metadata": {},
   "outputs": [],
   "source": [
    "fFile(nParPath=\"./hide/01-AdvancedObjectOrientedSoftwareDevolopment/08-inheritance-and-polymorphism/hdipADOOWk10-AbstractClasses - 21-11-2017.mp4\")"
   ]
  },
  {
   "cell_type": "markdown",
   "metadata": {},
   "source": [
    "< [Table of Contents](#top) | [References](#references) >\n",
    "<a id=\"SpecificationInheritance\"></a>\n",
    "***\n",
    "### Specification Inheritance\n",
    "***"
   ]
  },
  {
   "cell_type": "code",
   "execution_count": null,
   "metadata": {},
   "outputs": [],
   "source": [
    "fFile(nParPath=\"./hide/01-AdvancedObjectOrientedSoftwareDevolopment/08-inheritance-and-polymorphism/hdipADOOWk10-SpecificationInheritance - 21-11-2017.mp4\")"
   ]
  },
  {
   "cell_type": "markdown",
   "metadata": {},
   "source": [
    "< [Table of Contents](#top) | [References](#references) >\n",
    "<a id=\"ImplementingAbstractClassesandOverridingMethods\"></a>\n",
    "***\n",
    "### Implementing Abstract Classes and Overriding Methods\n",
    "***"
   ]
  },
  {
   "cell_type": "code",
   "execution_count": null,
   "metadata": {},
   "outputs": [],
   "source": [
    "fFile(nParPath=\"./hide/01-AdvancedObjectOrientedSoftwareDevolopment/08-inheritance-and-polymorphism/hdipADOOWk10-AbstractClasses-JavaExample - 21-11-2017.mp4\")"
   ]
  },
  {
   "cell_type": "markdown",
   "metadata": {},
   "source": [
    "< [Table of Contents](#top) | [References](#references) >\n",
    "<a id=\"ImplementingSpecificationInheritance\"></a>\n",
    "***\n",
    "### Implementing Specification Inheritance\n",
    "***"
   ]
  },
  {
   "cell_type": "code",
   "execution_count": null,
   "metadata": {},
   "outputs": [],
   "source": [
    "fFile(nParPath=\"./hide/01-AdvancedObjectOrientedSoftwareDevolopment/08-inheritance-and-polymorphism/hdipADOOWk10-SpecificationInheritance-JavaExample - 21-11-2017.mp4\")"
   ]
  },
  {
   "cell_type": "code",
   "execution_count": null,
   "metadata": {},
   "outputs": [],
   "source": [
    "fFile(nParPath=\"./hide/01-AdvancedObjectOrientedSoftwareDevolopment/08-inheritance-and-polymorphism/hdipADOOWk10-JavaSourceCode.zip\")"
   ]
  },
  {
   "cell_type": "code",
   "execution_count": null,
   "metadata": {},
   "outputs": [],
   "source": [
    "fFile(nParPath=\"./hide/01-AdvancedObjectOrientedSoftwareDevolopment/08-inheritance-and-polymorphism/hdipADOOWk9-SpecificationInheritance.pdf\")"
   ]
  },
  {
   "cell_type": "code",
   "execution_count": null,
   "metadata": {},
   "outputs": [],
   "source": [
    "fFile(nParPath=\"./hide/01-AdvancedObjectOrientedSoftwareDevolopment/08-inheritance-and-polymorphism/hdipADOOWk10-Exercises.pdf\")"
   ]
  },
  {
   "cell_type": "markdown",
   "metadata": {},
   "source": [
    "###### Meeting\n",
    "***"
   ]
  },
  {
   "cell_type": "code",
   "execution_count": null,
   "metadata": {},
   "outputs": [],
   "source": [
    "fFile(nParPath=\"./hide/01-AdvancedObjectOrientedSoftwareDevolopment/08-inheritance-and-polymorphism/Advanced Object Oriented Software Development - 2020-11-18 #61dad6db.mp4\")"
   ]
  },
  {
   "cell_type": "markdown",
   "metadata": {},
   "source": [
    "***\n",
    "## END"
   ]
  },
  {
   "cell_type": "markdown",
   "metadata": {},
   "source": [
    "< [Table of Contents](#top) | [References](#references) >\n",
    "<a id=\"ConcurrentProgrammingThreads\"></a>\n",
    "***\n",
    "## Concurrent Programming - Threads\n",
    "***"
   ]
  },
  {
   "cell_type": "markdown",
   "metadata": {},
   "source": [
    "Topics: \n",
    "\n",
    "* Thread v/s Runnable\n",
    "* JVM Method Stack, Thread Scheduler\n",
    "* Putting a Thread to Sleep, Thread Names and Priority\n",
    "* Yielding, Joining and Synchronising Threads\n",
    "\n",
    "Reading Material\n",
    "\n",
    "* Read the JavaDocs for the class [java.lang,Thread](https://docs.oracle.com/javase/7/docs/api/java/lang/Thread.html) and the interface [java.lang.Runnable](https://docs.oracle.com/javase/7/docs/api/java/lang/Runnable.html) and examine each of the method signatures described in the section Method Summary. You should also read the API documentation for the classes [StringBuffer](https://docs.oracle.com/javase/7/docs/api/java/lang/StringBuffer.html) (threaded) and StringBuilder (not threaded) and examine how the former is thread-safe.\n",
    "\n",
    "Exercises\n",
    "\n",
    "* Review and attempt the six exercises in Section 11.10 (Revision Exercises for Threads). I will work through the solutions with you in a online workshop on December 13th."
   ]
  },
  {
   "cell_type": "markdown",
   "metadata": {},
   "source": [
    "< [Table of Contents](#top) | [References](#references) >\n",
    "<a id=\"Threads\"></a>\n",
    "***\n",
    "### Threads\n",
    "***"
   ]
  },
  {
   "cell_type": "code",
   "execution_count": null,
   "metadata": {},
   "outputs": [],
   "source": [
    "fFile(nParPath=\"./hide/01-AdvancedObjectOrientedSoftwareDevolopment/09-concurrent-programming-threads/hdipADOOWk11-Threads - 27-11-2017.mp4\")"
   ]
  },
  {
   "cell_type": "markdown",
   "metadata": {},
   "source": [
    "< [Table of Contents](#top) | [References](#references) >\n",
    "<a id=\"JoiningThreads-EclipseExample\"></a>\n",
    "***\n",
    "### Joining Threads - Eclipse Example\n",
    "***"
   ]
  },
  {
   "cell_type": "code",
   "execution_count": null,
   "metadata": {},
   "outputs": [],
   "source": [
    "fFile(nParPath=\"./hide/01-AdvancedObjectOrientedSoftwareDevolopment/09-concurrent-programming-threads/hdipADOOWk11-ThreadJoinEclipse - 14-11-2017.mp4\")"
   ]
  },
  {
   "cell_type": "markdown",
   "metadata": {},
   "source": [
    "< [Table of Contents](#top) | [References](#references) >\n",
    "<a id=\"ThreadNamesandPriority-EclipseExample\"></a>\n",
    "***\n",
    "### Thread Names and Priority - Eclipse Example\n",
    "***"
   ]
  },
  {
   "cell_type": "code",
   "execution_count": null,
   "metadata": {},
   "outputs": [],
   "source": [
    "fFile(nParPath=\"./hide/01-AdvancedObjectOrientedSoftwareDevolopment/09-concurrent-programming-threads/hdipADOOWk11-ThreadBasicEclipse - 27-11-2017.mp4\")"
   ]
  },
  {
   "cell_type": "markdown",
   "metadata": {},
   "source": [
    "< [Table of Contents](#top) | [References](#references) >\n",
    "<a id=\"UsingthevolatileKeyword\"></a>\n",
    "***\n",
    "### Using the volatile Keyword\n",
    "***"
   ]
  },
  {
   "cell_type": "code",
   "execution_count": null,
   "metadata": {},
   "outputs": [],
   "source": [
    "fFile(nParPath=\"./hide/01-AdvancedObjectOrientedSoftwareDevolopment/09-concurrent-programming-threads/hdipADOOWk11-ThreadVolatileEclipse - 14-11-2017.mp4\")"
   ]
  },
  {
   "cell_type": "markdown",
   "metadata": {},
   "source": [
    "< [Table of Contents](#top) | [References](#references) >\n",
    "<a id=\"ThreadDeadlockwithSynchronizedMethods\"></a>\n",
    "***\n",
    "### Thread Deadlock with Synchronized Methods\n",
    "***"
   ]
  },
  {
   "cell_type": "code",
   "execution_count": null,
   "metadata": {},
   "outputs": [],
   "source": [
    "fFile(nParPath=\"./hide/01-AdvancedObjectOrientedSoftwareDevolopment/09-concurrent-programming-threads/hdipADOOWk11-ThreadSyncDeadlockEclipse - 14-11-2017.mp4\")"
   ]
  },
  {
   "cell_type": "markdown",
   "metadata": {},
   "source": [
    "< [Table of Contents](#top) | [References](#references) >\n",
    "<a id=\"ThreadDeadlockwithSynchronizedObjects\"></a>\n",
    "***\n",
    "### Thread Deadlock with Synchronized Objects\n",
    "***"
   ]
  },
  {
   "cell_type": "code",
   "execution_count": null,
   "metadata": {},
   "outputs": [],
   "source": [
    "fFile(nParPath=\"./hide/01-AdvancedObjectOrientedSoftwareDevolopment/09-concurrent-programming-threads/hdipADOOWk11-ThreadSyncObjectDeadlockEclipse - 14-11-2017.mp4\")"
   ]
  },
  {
   "cell_type": "markdown",
   "metadata": {},
   "source": [
    "< [Table of Contents](#top) | [References](#references) >\n",
    "<a id=\"ThreadDeadlockwithObjectMonitors\"></a>\n",
    "***\n",
    "### Thread Deadlock with Object Monitors\n",
    "***"
   ]
  },
  {
   "cell_type": "code",
   "execution_count": null,
   "metadata": {},
   "outputs": [],
   "source": [
    "fFile(nParPath=\"./hide/01-AdvancedObjectOrientedSoftwareDevolopment/09-concurrent-programming-threads/hdipADOOWk11-ThreadMonitorDeadlockEclipse - 14-11-2017.mp4\")"
   ]
  },
  {
   "cell_type": "code",
   "execution_count": null,
   "metadata": {},
   "outputs": [],
   "source": [
    "fFile(nParPath=\"./hide/01-AdvancedObjectOrientedSoftwareDevolopment/09-concurrent-programming-threads/hdipADOOWk11-Threads.pdf\")"
   ]
  },
  {
   "cell_type": "code",
   "execution_count": null,
   "metadata": {},
   "outputs": [],
   "source": [
    "fFile(nParPath=\"./hide/01-AdvancedObjectOrientedSoftwareDevolopment/09-concurrent-programming-threads/hdipADOOWk11-JavaSourceCode.zip\")"
   ]
  },
  {
   "cell_type": "code",
   "execution_count": null,
   "metadata": {},
   "outputs": [],
   "source": [
    "fFile(nParPath=\"./hide/01-AdvancedObjectOrientedSoftwareDevolopment/09-concurrent-programming-threads/hdipADOOWk11-Exercises.pdf\")"
   ]
  },
  {
   "cell_type": "markdown",
   "metadata": {},
   "source": [
    "***\n",
    "## END"
   ]
  },
  {
   "cell_type": "markdown",
   "metadata": {},
   "source": [
    "< [Table of Contents](#top) | [References](#references) >\n",
    "<a id=\"javaDocs\"></a>\n",
    "***\n",
    "## javaDocs\n",
    "***"
   ]
  },
  {
   "cell_type": "markdown",
   "metadata": {},
   "source": [
    "Topics: \n",
    "\n",
    "* How to document code using the JavaDoc tool.\n",
    "\n",
    "Reading Material\n",
    "\n",
    "* Read the short JavaDoc Tutorial (12.1 below) by Ashley Mills from the University Of Birmingham.\n",
    "* Read the article on [How to Write Doc Comments for the Javadoc Tool](https://www.oracle.com/technical-resources/articles/java/javadoc-tool.html) from Oracle. Pay particular attention to the Style Guide section.\n",
    "\n",
    "Exercises\n",
    "\n",
    "* Download the Zip archive containing the implemented shopping trolley in 5.5 Shopping Trolley (Java Source Code - see below) and JavaDoc all the classes except for the class Runner.java. The Eclipse IDE will colour code the JavaDoc comments in blue, after you start a comment with /***. The CTRL+SPACE intellisense works for JavaDocs and will provide you with a set of annotations (@) to select from. \n",
    "* Use the Eclipse Menu File->Export->Java->JavaDocs to generate the HTML API documentation for the shopping trolley.\n",
    "* Use the Eclipse Menu File->Export->Java->JAR File to package the class files (*.class) into a library called trolley.jar.\n",
    "\n",
    "* [Annotating Code with JavaDoc and Creating a JAR Archive](#AnnotatingCodewithJavaDocandCreatingaJARArchive)"
   ]
  },
  {
   "cell_type": "markdown",
   "metadata": {},
   "source": [
    "< [Table of Contents](#top) | [References](#references) >\n",
    "<a id=\"AnnotatingCodewithJavaDocandCreatingaJARArchive\"></a>\n",
    "***\n",
    "### Annotating Code with JavaDoc and Creating a JAR Archive\n",
    "***"
   ]
  },
  {
   "cell_type": "code",
   "execution_count": null,
   "metadata": {},
   "outputs": [],
   "source": [
    "fFile(nParPath=\"./hide/01-AdvancedObjectOrientedSoftwareDevolopment/10-javaDocs/javadoc.pdf\")"
   ]
  },
  {
   "cell_type": "code",
   "execution_count": null,
   "metadata": {},
   "outputs": [],
   "source": [
    "fFile(nParPath=\"./hide/01-AdvancedObjectOrientedSoftwareDevolopment/10-javaDocs/hdipADOOWk12-JavaDocsAndJar - 20-12-2017.mp4\")"
   ]
  },
  {
   "cell_type": "markdown",
   "metadata": {},
   "source": [
    "***\n",
    "## END"
   ]
  },
  {
   "cell_type": "markdown",
   "metadata": {},
   "source": [
    "< [Table of Contents](#top) | [References](#references) >\n",
    "<a id=\"revisionWeek2\"></a>\n",
    "***\n",
    "## Revision Week 2\n",
    "***"
   ]
  },
  {
   "cell_type": "markdown",
   "metadata": {},
   "source": [
    "Only the topics covered in weeks 5, 9- 10 will be examined in the assessment next week. Specifically, you will have two hours to answer seven questions questions worth 70 marks, i.e. 70 marks = 100%. Please note that the questions will be consistent with the following format: \n",
    "\n",
    "* Equality & Comparability (Two questions worth 25 Marks). You will be shown a Java class or a UML diagram will be asked to implement the functionally for equality and comparability of elements in a collection.\n",
    "* Inheritance (Five questions worth 45 Marks). You will be shown a UML diagram and be required to describe, analyse and implement it.\n",
    "    "
   ]
  },
  {
   "cell_type": "markdown",
   "metadata": {},
   "source": [
    "< [Table of Contents](#top) | [References](#references) >\n",
    "<a id=\"UMLClassDiagrams\"></a>\n",
    "***\n",
    "### UML Class Diagrams\n",
    "***"
   ]
  },
  {
   "cell_type": "code",
   "execution_count": null,
   "metadata": {},
   "outputs": [],
   "source": [
    "fFile(nParPath=\"./hide/01-AdvancedObjectOrientedSoftwareDevolopment/11-revision-week/hdipADOOWk1-Sample-Assessment-2.pdf\")"
   ]
  },
  {
   "cell_type": "code",
   "execution_count": null,
   "metadata": {},
   "outputs": [],
   "source": [
    "fFile(nParPath=\"./hide/01-AdvancedObjectOrientedSoftwareDevolopment/11-revision-week/uml-class-diagrams.pdf\")"
   ]
  },
  {
   "cell_type": "code",
   "execution_count": null,
   "metadata": {},
   "outputs": [],
   "source": [
    "fFile(nParPath=\"./hide/01-AdvancedObjectOrientedSoftwareDevolopment/11-revision-week/UML Class Diagrams - 2020-11-28 #8de6ec56.mp4\")"
   ]
  },
  {
   "cell_type": "markdown",
   "metadata": {},
   "source": [
    "***\n",
    "## END"
   ]
  },
  {
   "cell_type": "markdown",
   "metadata": {},
   "source": [
    "< [Table of Contents](#top) >\n",
    "<a id=\"references\"></a>\n",
    "***\n",
    "## References\n",
    "***\n",
    "\n",
    "&nbsp;&nbsp;&nbsp;&nbsp;&nbsp;&nbsp;&nbsp;&nbsp;&nbsp;[0] J. Healy, \"XXX_XXX (Module: Advanced Object-Oriented Software Development),\" GMIT (Programme: Higher Diploma in Science in Computing (Software Development)), xxx 2020.\n",
    "\n",
    "<!--\n",
    "\n",
    "&nbsp;&nbsp;&nbsp;&nbsp;&nbsp;&nbsp;&nbsp;&nbsp;&nbsp;[0] Anaconda (built-in), \"range,\" Docstring, Conda:4.9.2 (Python:3.8.5).\n",
    "\n",
    "&nbsp;&nbsp;&nbsp;&nbsp;&nbsp;&nbsp;&nbsp;&nbsp;&nbsp;[0] Anaconda (plot), \"matplotlib.pyplot,\" Docstring, Conda:4.9.2 (Python:3.8.5).\n",
    "\n",
    "&nbsp;&nbsp;&nbsp;&nbsp;&nbsp;&nbsp;&nbsp;&nbsp;&nbsp;[0] D. Carr, \"CTA - Lecture 1 Part 1,\" GMIT, January 2021.\n",
    "\n",
    "&nbsp;&nbsp;&nbsp;&nbsp;&nbsp;&nbsp;&nbsp;&nbsp;&nbsp;[0] A. Beatty, \"xxx,\" GMIT, January 202x.\n",
    "\n",
    "&nbsp;&nbsp;&nbsp;&nbsp;&nbsp;&nbsp;&nbsp;&nbsp;&nbsp;[0] M. R. Fellows, I. Parberry, \"SIGACT Trying to Get Children Excited About CS,\" [ianparberry](https://web.archive.org/web/20210220071000/http://ianparberry.com/research/cseducation), January 1993.\n",
    "\n",
    "fubar-000\n",
    "\n",
    "&nbsp;&nbsp;&nbsp;&nbsp;&nbsp;&nbsp;&nbsp;&nbsp;&nbsp;[4] A. Beatty, \"prog 0.0 introduction (Module: Programming for Cybersecurity),\" GMIT (Programme: Certificate in Cybersecurity Operations), January 2021.\n",
    "-->"
   ]
  },
  {
   "cell_type": "markdown",
   "metadata": {},
   "source": [
    "***\n",
    "## END"
   ]
  },
  {
   "cell_type": "markdown",
   "metadata": {},
   "source": [
    "< [Table of Contents](#top) >\n",
    "<a id=\"appendix\"></a>\n",
    "***\n",
    "## Appendix\n",
    "***"
   ]
  },
  {
   "cell_type": "markdown",
   "metadata": {},
   "source": [
    "&#x1F6A7;"
   ]
  },
  {
   "cell_type": "markdown",
   "metadata": {},
   "source": [
    "<a id=\"appendix-some-reference\"></a>\n",
    "< [Go Back](#top) >"
   ]
  },
  {
   "cell_type": "raw",
   "metadata": {},
   "source": [
    "from matplotlib.pyplot import box,yticks,xlabel,bar,text,title,show\n",
    "\n",
    "from sys import path; path.insert(1,\"../src\")\n",
    "from fubar import fDarkReader\n",
    "\n",
    "%%script bash\n",
    "grep -1 \"def fDarkReader\" ../src/fubar.py -A 9\n",
    "\n",
    "fDarkReader()"
   ]
  },
  {
   "cell_type": "markdown",
   "metadata": {},
   "source": [
    "⚡"
   ]
  },
  {
   "cell_type": "raw",
   "metadata": {},
   "source": [
    "from sys import path; path.insert(1,\"../src\")\n",
    "from fubar import fFile\n",
    "\n",
    "%%script bash\n",
    "grep -1 \"def fFile\" ../src/fubar.py -A 9\n",
    "\n",
    "fFile(nParPath=\"\")\n",
    "\n",
    "exit()"
   ]
  },
  {
   "cell_type": "markdown",
   "metadata": {},
   "source": [
    "###### Github\n",
    "***"
   ]
  },
  {
   "cell_type": "markdown",
   "metadata": {},
   "source": [
    "```\n",
    "git push -f origin HEAD^:master && git reset HEAD~\n",
    "```"
   ]
  },
  {
   "cell_type": "markdown",
   "metadata": {},
   "source": [
    "###### Functions\n",
    "***"
   ]
  },
  {
   "cell_type": "markdown",
   "metadata": {},
   "source": [
    "```python\n",
    "# %%writefile -a ../src/fubar.py\n",
    "# repository ./fubar-python\n",
    "def f():\n",
    "    \"\"\"\n",
    "\n",
    "Input:\n",
    "Process:\n",
    "Output:\n",
    "\"\"\"\n",
    "    pass\n",
    "# -- END ---\n",
    "```"
   ]
  },
  {
   "cell_type": "markdown",
   "metadata": {},
   "source": [
    "###### Functions - ../src/fubar.py\n",
    "***"
   ]
  },
  {
   "cell_type": "markdown",
   "metadata": {},
   "source": [
    "```\n",
    "%%script bash\n",
    "cat ../src/fubar.py\n",
    "```"
   ]
  },
  {
   "cell_type": "code",
   "execution_count": null,
   "metadata": {},
   "outputs": [],
   "source": [
    "%%script bash\n",
    "grep -1 \"def fFullScreen\" ../src/fubar.py -A 9"
   ]
  },
  {
   "cell_type": "markdown",
   "metadata": {},
   "source": [
    "```\n",
    "git commit -m \"update repository ./fubar-python - Everything in python is an object.\"\n",
    "```"
   ]
  },
  {
   "cell_type": "markdown",
   "metadata": {},
   "source": [
    "###### Images\n",
    "***"
   ]
  },
  {
   "cell_type": "markdown",
   "metadata": {},
   "source": [
    "![gumball](https://github.com/SeanOhAileasa/SeanOhAileasa/blob/master/img/cta/analysing/gumball.png?raw=true)\n",
    "\n",
    "***(Image) P. Mannion, \"03 Analysing Algorithms Part 1,\" GMIT, October 2017.***"
   ]
  },
  {
   "cell_type": "markdown",
   "metadata": {},
   "source": [
    "###### Tables\n",
    "***"
   ]
  },
  {
   "cell_type": "markdown",
   "metadata": {},
   "source": [
    "|aaa|bbbbbb|ccccccccc|\n",
    "|:------------------------- | :------------------------- | :------------------------- |\n",
    "|aaa|bbbbbb|ccccccccc|"
   ]
  },
  {
   "cell_type": "markdown",
   "metadata": {},
   "source": [
    "###### References\n",
    "***"
   ]
  },
  {
   "cell_type": "markdown",
   "metadata": {},
   "source": [
    "&nbsp;&nbsp;&nbsp;&nbsp;&nbsp;&nbsp;&nbsp;&nbsp;&nbsp;[1] x. xxx, \"xxx,\" xxx, JanXXXry 2XX1."
   ]
  },
  {
   "cell_type": "markdown",
   "metadata": {},
   "source": [
    "***\n",
    "## END"
   ]
  },
  {
   "cell_type": "markdown",
   "metadata": {},
   "source": [
    "# END JUPYTER NOTEBOOK"
   ]
  }
 ],
 "metadata": {
  "kernelspec": {
   "display_name": "Python 3",
   "language": "python",
   "name": "python3"
  },
  "language_info": {
   "codemirror_mode": {
    "name": "ipython",
    "version": 3
   },
   "file_extension": ".py",
   "mimetype": "text/x-python",
   "name": "python",
   "nbconvert_exporter": "python",
   "pygments_lexer": "ipython3",
   "version": "3.8.5"
  }
 },
 "nbformat": 4,
 "nbformat_minor": 5
}
